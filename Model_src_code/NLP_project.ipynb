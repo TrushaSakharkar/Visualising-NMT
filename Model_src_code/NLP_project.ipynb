{
  "nbformat": 4,
  "nbformat_minor": 0,
  "metadata": {
    "accelerator": "GPU",
    "colab": {
      "name": "NLP_project.ipynb",
      "provenance": [],
      "collapsed_sections": []
    },
    "kernelspec": {
      "display_name": "Python 3",
      "name": "python3"
    },
    "widgets": {
      "application/vnd.jupyter.widget-state+json": {
        "9e3e130129f345a1a5eb0d6e77af9634": {
          "model_module": "@jupyter-widgets/controls",
          "model_name": "HBoxModel",
          "state": {
            "_view_name": "HBoxView",
            "_dom_classes": [],
            "_model_name": "HBoxModel",
            "_view_module": "@jupyter-widgets/controls",
            "_model_module_version": "1.5.0",
            "_view_count": null,
            "_view_module_version": "1.5.0",
            "box_style": "",
            "layout": "IPY_MODEL_b9a11407942d4295a7189820517c08d1",
            "_model_module": "@jupyter-widgets/controls",
            "children": [
              "IPY_MODEL_2b4b7d92eeb34edb80c9d793d4c14523",
              "IPY_MODEL_692ea05e96654a7c9cc3f4c7e38fa743"
            ]
          }
        },
        "b9a11407942d4295a7189820517c08d1": {
          "model_module": "@jupyter-widgets/base",
          "model_name": "LayoutModel",
          "state": {
            "_view_name": "LayoutView",
            "grid_template_rows": null,
            "right": null,
            "justify_content": null,
            "_view_module": "@jupyter-widgets/base",
            "overflow": null,
            "_model_module_version": "1.2.0",
            "_view_count": null,
            "flex_flow": null,
            "width": null,
            "min_width": null,
            "border": null,
            "align_items": null,
            "bottom": null,
            "_model_module": "@jupyter-widgets/base",
            "top": null,
            "grid_column": null,
            "overflow_y": null,
            "overflow_x": null,
            "grid_auto_flow": null,
            "grid_area": null,
            "grid_template_columns": null,
            "flex": null,
            "_model_name": "LayoutModel",
            "justify_items": null,
            "grid_row": null,
            "max_height": null,
            "align_content": null,
            "visibility": null,
            "align_self": null,
            "height": null,
            "min_height": null,
            "padding": null,
            "grid_auto_rows": null,
            "grid_gap": null,
            "max_width": null,
            "order": null,
            "_view_module_version": "1.2.0",
            "grid_template_areas": null,
            "object_position": null,
            "object_fit": null,
            "grid_auto_columns": null,
            "margin": null,
            "display": null,
            "left": null
          }
        },
        "2b4b7d92eeb34edb80c9d793d4c14523": {
          "model_module": "@jupyter-widgets/controls",
          "model_name": "FloatProgressModel",
          "state": {
            "_view_name": "ProgressView",
            "style": "IPY_MODEL_a3bf6c32f12e41188f416691cff63dd1",
            "_dom_classes": [],
            "description": " 20%",
            "_model_name": "FloatProgressModel",
            "bar_style": "",
            "max": 10,
            "_view_module": "@jupyter-widgets/controls",
            "_model_module_version": "1.5.0",
            "value": 2,
            "_view_count": null,
            "_view_module_version": "1.5.0",
            "orientation": "horizontal",
            "min": 0,
            "description_tooltip": null,
            "_model_module": "@jupyter-widgets/controls",
            "layout": "IPY_MODEL_7e4139ce7b9246ab8f455b754fe05b17"
          }
        },
        "692ea05e96654a7c9cc3f4c7e38fa743": {
          "model_module": "@jupyter-widgets/controls",
          "model_name": "HTMLModel",
          "state": {
            "_view_name": "HTMLView",
            "style": "IPY_MODEL_794b704a7eca488183214dbbf59d4a14",
            "_dom_classes": [],
            "description": "",
            "_model_name": "HTMLModel",
            "placeholder": "​",
            "_view_module": "@jupyter-widgets/controls",
            "_model_module_version": "1.5.0",
            "value": " 2/10 [43:20&lt;2:53:21, 1300.19s/it]",
            "_view_count": null,
            "_view_module_version": "1.5.0",
            "description_tooltip": null,
            "_model_module": "@jupyter-widgets/controls",
            "layout": "IPY_MODEL_b1db38e3e6b24de39bb226c25fabcd44"
          }
        },
        "a3bf6c32f12e41188f416691cff63dd1": {
          "model_module": "@jupyter-widgets/controls",
          "model_name": "ProgressStyleModel",
          "state": {
            "_view_name": "StyleView",
            "_model_name": "ProgressStyleModel",
            "description_width": "initial",
            "_view_module": "@jupyter-widgets/base",
            "_model_module_version": "1.5.0",
            "_view_count": null,
            "_view_module_version": "1.2.0",
            "bar_color": null,
            "_model_module": "@jupyter-widgets/controls"
          }
        },
        "7e4139ce7b9246ab8f455b754fe05b17": {
          "model_module": "@jupyter-widgets/base",
          "model_name": "LayoutModel",
          "state": {
            "_view_name": "LayoutView",
            "grid_template_rows": null,
            "right": null,
            "justify_content": null,
            "_view_module": "@jupyter-widgets/base",
            "overflow": null,
            "_model_module_version": "1.2.0",
            "_view_count": null,
            "flex_flow": null,
            "width": null,
            "min_width": null,
            "border": null,
            "align_items": null,
            "bottom": null,
            "_model_module": "@jupyter-widgets/base",
            "top": null,
            "grid_column": null,
            "overflow_y": null,
            "overflow_x": null,
            "grid_auto_flow": null,
            "grid_area": null,
            "grid_template_columns": null,
            "flex": null,
            "_model_name": "LayoutModel",
            "justify_items": null,
            "grid_row": null,
            "max_height": null,
            "align_content": null,
            "visibility": null,
            "align_self": null,
            "height": null,
            "min_height": null,
            "padding": null,
            "grid_auto_rows": null,
            "grid_gap": null,
            "max_width": null,
            "order": null,
            "_view_module_version": "1.2.0",
            "grid_template_areas": null,
            "object_position": null,
            "object_fit": null,
            "grid_auto_columns": null,
            "margin": null,
            "display": null,
            "left": null
          }
        },
        "794b704a7eca488183214dbbf59d4a14": {
          "model_module": "@jupyter-widgets/controls",
          "model_name": "DescriptionStyleModel",
          "state": {
            "_view_name": "StyleView",
            "_model_name": "DescriptionStyleModel",
            "description_width": "",
            "_view_module": "@jupyter-widgets/base",
            "_model_module_version": "1.5.0",
            "_view_count": null,
            "_view_module_version": "1.2.0",
            "_model_module": "@jupyter-widgets/controls"
          }
        },
        "b1db38e3e6b24de39bb226c25fabcd44": {
          "model_module": "@jupyter-widgets/base",
          "model_name": "LayoutModel",
          "state": {
            "_view_name": "LayoutView",
            "grid_template_rows": null,
            "right": null,
            "justify_content": null,
            "_view_module": "@jupyter-widgets/base",
            "overflow": null,
            "_model_module_version": "1.2.0",
            "_view_count": null,
            "flex_flow": null,
            "width": null,
            "min_width": null,
            "border": null,
            "align_items": null,
            "bottom": null,
            "_model_module": "@jupyter-widgets/base",
            "top": null,
            "grid_column": null,
            "overflow_y": null,
            "overflow_x": null,
            "grid_auto_flow": null,
            "grid_area": null,
            "grid_template_columns": null,
            "flex": null,
            "_model_name": "LayoutModel",
            "justify_items": null,
            "grid_row": null,
            "max_height": null,
            "align_content": null,
            "visibility": null,
            "align_self": null,
            "height": null,
            "min_height": null,
            "padding": null,
            "grid_auto_rows": null,
            "grid_gap": null,
            "max_width": null,
            "order": null,
            "_view_module_version": "1.2.0",
            "grid_template_areas": null,
            "object_position": null,
            "object_fit": null,
            "grid_auto_columns": null,
            "margin": null,
            "display": null,
            "left": null
          }
        },
        "9b5519784d584be2a2ef3deaa0293243": {
          "model_module": "@jupyter-widgets/controls",
          "model_name": "HBoxModel",
          "state": {
            "_view_name": "HBoxView",
            "_dom_classes": [],
            "_model_name": "HBoxModel",
            "_view_module": "@jupyter-widgets/controls",
            "_model_module_version": "1.5.0",
            "_view_count": null,
            "_view_module_version": "1.5.0",
            "box_style": "",
            "layout": "IPY_MODEL_1341dbd813cf487b9385d594742f4d3b",
            "_model_module": "@jupyter-widgets/controls",
            "children": [
              "IPY_MODEL_6d0eafc2302f487dac2a571cd6029295",
              "IPY_MODEL_b6ade48b0fa4455ead03dd9cad397d13"
            ]
          }
        },
        "1341dbd813cf487b9385d594742f4d3b": {
          "model_module": "@jupyter-widgets/base",
          "model_name": "LayoutModel",
          "state": {
            "_view_name": "LayoutView",
            "grid_template_rows": null,
            "right": null,
            "justify_content": null,
            "_view_module": "@jupyter-widgets/base",
            "overflow": null,
            "_model_module_version": "1.2.0",
            "_view_count": null,
            "flex_flow": null,
            "width": null,
            "min_width": null,
            "border": null,
            "align_items": null,
            "bottom": null,
            "_model_module": "@jupyter-widgets/base",
            "top": null,
            "grid_column": null,
            "overflow_y": null,
            "overflow_x": null,
            "grid_auto_flow": null,
            "grid_area": null,
            "grid_template_columns": null,
            "flex": null,
            "_model_name": "LayoutModel",
            "justify_items": null,
            "grid_row": null,
            "max_height": null,
            "align_content": null,
            "visibility": null,
            "align_self": null,
            "height": null,
            "min_height": null,
            "padding": null,
            "grid_auto_rows": null,
            "grid_gap": null,
            "max_width": null,
            "order": null,
            "_view_module_version": "1.2.0",
            "grid_template_areas": null,
            "object_position": null,
            "object_fit": null,
            "grid_auto_columns": null,
            "margin": null,
            "display": null,
            "left": null
          }
        },
        "6d0eafc2302f487dac2a571cd6029295": {
          "model_module": "@jupyter-widgets/controls",
          "model_name": "FloatProgressModel",
          "state": {
            "_view_name": "ProgressView",
            "style": "IPY_MODEL_5b6539c03c6a408d8d17c42d05dc839f",
            "_dom_classes": [],
            "description": "100%",
            "_model_name": "FloatProgressModel",
            "bar_style": "success",
            "max": 4375,
            "_view_module": "@jupyter-widgets/controls",
            "_model_module_version": "1.5.0",
            "value": 4375,
            "_view_count": null,
            "_view_module_version": "1.5.0",
            "orientation": "horizontal",
            "min": 0,
            "description_tooltip": null,
            "_model_module": "@jupyter-widgets/controls",
            "layout": "IPY_MODEL_39b33e3b039848288db7757fa87927cb"
          }
        },
        "b6ade48b0fa4455ead03dd9cad397d13": {
          "model_module": "@jupyter-widgets/controls",
          "model_name": "HTMLModel",
          "state": {
            "_view_name": "HTMLView",
            "style": "IPY_MODEL_931481a42b484959bc4373c569bcd27f",
            "_dom_classes": [],
            "description": "",
            "_model_name": "HTMLModel",
            "placeholder": "​",
            "_view_module": "@jupyter-widgets/controls",
            "_model_module_version": "1.5.0",
            "value": " 4375/4375 [20:48&lt;00:00,  3.51it/s]",
            "_view_count": null,
            "_view_module_version": "1.5.0",
            "description_tooltip": null,
            "_model_module": "@jupyter-widgets/controls",
            "layout": "IPY_MODEL_df96db9e1f094d03ba0ccab30b5d05df"
          }
        },
        "5b6539c03c6a408d8d17c42d05dc839f": {
          "model_module": "@jupyter-widgets/controls",
          "model_name": "ProgressStyleModel",
          "state": {
            "_view_name": "StyleView",
            "_model_name": "ProgressStyleModel",
            "description_width": "initial",
            "_view_module": "@jupyter-widgets/base",
            "_model_module_version": "1.5.0",
            "_view_count": null,
            "_view_module_version": "1.2.0",
            "bar_color": null,
            "_model_module": "@jupyter-widgets/controls"
          }
        },
        "39b33e3b039848288db7757fa87927cb": {
          "model_module": "@jupyter-widgets/base",
          "model_name": "LayoutModel",
          "state": {
            "_view_name": "LayoutView",
            "grid_template_rows": null,
            "right": null,
            "justify_content": null,
            "_view_module": "@jupyter-widgets/base",
            "overflow": null,
            "_model_module_version": "1.2.0",
            "_view_count": null,
            "flex_flow": null,
            "width": null,
            "min_width": null,
            "border": null,
            "align_items": null,
            "bottom": null,
            "_model_module": "@jupyter-widgets/base",
            "top": null,
            "grid_column": null,
            "overflow_y": null,
            "overflow_x": null,
            "grid_auto_flow": null,
            "grid_area": null,
            "grid_template_columns": null,
            "flex": null,
            "_model_name": "LayoutModel",
            "justify_items": null,
            "grid_row": null,
            "max_height": null,
            "align_content": null,
            "visibility": null,
            "align_self": null,
            "height": null,
            "min_height": null,
            "padding": null,
            "grid_auto_rows": null,
            "grid_gap": null,
            "max_width": null,
            "order": null,
            "_view_module_version": "1.2.0",
            "grid_template_areas": null,
            "object_position": null,
            "object_fit": null,
            "grid_auto_columns": null,
            "margin": null,
            "display": null,
            "left": null
          }
        },
        "931481a42b484959bc4373c569bcd27f": {
          "model_module": "@jupyter-widgets/controls",
          "model_name": "DescriptionStyleModel",
          "state": {
            "_view_name": "StyleView",
            "_model_name": "DescriptionStyleModel",
            "description_width": "",
            "_view_module": "@jupyter-widgets/base",
            "_model_module_version": "1.5.0",
            "_view_count": null,
            "_view_module_version": "1.2.0",
            "_model_module": "@jupyter-widgets/controls"
          }
        },
        "df96db9e1f094d03ba0ccab30b5d05df": {
          "model_module": "@jupyter-widgets/base",
          "model_name": "LayoutModel",
          "state": {
            "_view_name": "LayoutView",
            "grid_template_rows": null,
            "right": null,
            "justify_content": null,
            "_view_module": "@jupyter-widgets/base",
            "overflow": null,
            "_model_module_version": "1.2.0",
            "_view_count": null,
            "flex_flow": null,
            "width": null,
            "min_width": null,
            "border": null,
            "align_items": null,
            "bottom": null,
            "_model_module": "@jupyter-widgets/base",
            "top": null,
            "grid_column": null,
            "overflow_y": null,
            "overflow_x": null,
            "grid_auto_flow": null,
            "grid_area": null,
            "grid_template_columns": null,
            "flex": null,
            "_model_name": "LayoutModel",
            "justify_items": null,
            "grid_row": null,
            "max_height": null,
            "align_content": null,
            "visibility": null,
            "align_self": null,
            "height": null,
            "min_height": null,
            "padding": null,
            "grid_auto_rows": null,
            "grid_gap": null,
            "max_width": null,
            "order": null,
            "_view_module_version": "1.2.0",
            "grid_template_areas": null,
            "object_position": null,
            "object_fit": null,
            "grid_auto_columns": null,
            "margin": null,
            "display": null,
            "left": null
          }
        },
        "fdb84744407944dd907f12fd87147594": {
          "model_module": "@jupyter-widgets/controls",
          "model_name": "HBoxModel",
          "state": {
            "_view_name": "HBoxView",
            "_dom_classes": [],
            "_model_name": "HBoxModel",
            "_view_module": "@jupyter-widgets/controls",
            "_model_module_version": "1.5.0",
            "_view_count": null,
            "_view_module_version": "1.5.0",
            "box_style": "",
            "layout": "IPY_MODEL_069e22303cde432384311312d5214321",
            "_model_module": "@jupyter-widgets/controls",
            "children": [
              "IPY_MODEL_c9f9c73fce864d79ba01e1b6b34e7c64",
              "IPY_MODEL_d3ebd791a19c4bd6817b8cccd65b9df3"
            ]
          }
        },
        "069e22303cde432384311312d5214321": {
          "model_module": "@jupyter-widgets/base",
          "model_name": "LayoutModel",
          "state": {
            "_view_name": "LayoutView",
            "grid_template_rows": null,
            "right": null,
            "justify_content": null,
            "_view_module": "@jupyter-widgets/base",
            "overflow": null,
            "_model_module_version": "1.2.0",
            "_view_count": null,
            "flex_flow": null,
            "width": null,
            "min_width": null,
            "border": null,
            "align_items": null,
            "bottom": null,
            "_model_module": "@jupyter-widgets/base",
            "top": null,
            "grid_column": null,
            "overflow_y": null,
            "overflow_x": null,
            "grid_auto_flow": null,
            "grid_area": null,
            "grid_template_columns": null,
            "flex": null,
            "_model_name": "LayoutModel",
            "justify_items": null,
            "grid_row": null,
            "max_height": null,
            "align_content": null,
            "visibility": null,
            "align_self": null,
            "height": null,
            "min_height": null,
            "padding": null,
            "grid_auto_rows": null,
            "grid_gap": null,
            "max_width": null,
            "order": null,
            "_view_module_version": "1.2.0",
            "grid_template_areas": null,
            "object_position": null,
            "object_fit": null,
            "grid_auto_columns": null,
            "margin": null,
            "display": null,
            "left": null
          }
        },
        "c9f9c73fce864d79ba01e1b6b34e7c64": {
          "model_module": "@jupyter-widgets/controls",
          "model_name": "FloatProgressModel",
          "state": {
            "_view_name": "ProgressView",
            "style": "IPY_MODEL_ed8327b3775846a496861fc1af948daa",
            "_dom_classes": [],
            "description": "100%",
            "_model_name": "FloatProgressModel",
            "bar_style": "success",
            "max": 625,
            "_view_module": "@jupyter-widgets/controls",
            "_model_module_version": "1.5.0",
            "value": 625,
            "_view_count": null,
            "_view_module_version": "1.5.0",
            "orientation": "horizontal",
            "min": 0,
            "description_tooltip": null,
            "_model_module": "@jupyter-widgets/controls",
            "layout": "IPY_MODEL_fdb9ba90308844b9aa9c72467610ee17"
          }
        },
        "d3ebd791a19c4bd6817b8cccd65b9df3": {
          "model_module": "@jupyter-widgets/controls",
          "model_name": "HTMLModel",
          "state": {
            "_view_name": "HTMLView",
            "style": "IPY_MODEL_2e05ffd96e9b46b195e992ad931c0b82",
            "_dom_classes": [],
            "description": "",
            "_model_name": "HTMLModel",
            "placeholder": "​",
            "_view_module": "@jupyter-widgets/controls",
            "_model_module_version": "1.5.0",
            "value": " 625/625 [21:39&lt;00:00,  2.08s/it]",
            "_view_count": null,
            "_view_module_version": "1.5.0",
            "description_tooltip": null,
            "_model_module": "@jupyter-widgets/controls",
            "layout": "IPY_MODEL_f376acaf27d54d21960697b7b0050eff"
          }
        },
        "ed8327b3775846a496861fc1af948daa": {
          "model_module": "@jupyter-widgets/controls",
          "model_name": "ProgressStyleModel",
          "state": {
            "_view_name": "StyleView",
            "_model_name": "ProgressStyleModel",
            "description_width": "initial",
            "_view_module": "@jupyter-widgets/base",
            "_model_module_version": "1.5.0",
            "_view_count": null,
            "_view_module_version": "1.2.0",
            "bar_color": null,
            "_model_module": "@jupyter-widgets/controls"
          }
        },
        "fdb9ba90308844b9aa9c72467610ee17": {
          "model_module": "@jupyter-widgets/base",
          "model_name": "LayoutModel",
          "state": {
            "_view_name": "LayoutView",
            "grid_template_rows": null,
            "right": null,
            "justify_content": null,
            "_view_module": "@jupyter-widgets/base",
            "overflow": null,
            "_model_module_version": "1.2.0",
            "_view_count": null,
            "flex_flow": null,
            "width": null,
            "min_width": null,
            "border": null,
            "align_items": null,
            "bottom": null,
            "_model_module": "@jupyter-widgets/base",
            "top": null,
            "grid_column": null,
            "overflow_y": null,
            "overflow_x": null,
            "grid_auto_flow": null,
            "grid_area": null,
            "grid_template_columns": null,
            "flex": null,
            "_model_name": "LayoutModel",
            "justify_items": null,
            "grid_row": null,
            "max_height": null,
            "align_content": null,
            "visibility": null,
            "align_self": null,
            "height": null,
            "min_height": null,
            "padding": null,
            "grid_auto_rows": null,
            "grid_gap": null,
            "max_width": null,
            "order": null,
            "_view_module_version": "1.2.0",
            "grid_template_areas": null,
            "object_position": null,
            "object_fit": null,
            "grid_auto_columns": null,
            "margin": null,
            "display": null,
            "left": null
          }
        },
        "2e05ffd96e9b46b195e992ad931c0b82": {
          "model_module": "@jupyter-widgets/controls",
          "model_name": "DescriptionStyleModel",
          "state": {
            "_view_name": "StyleView",
            "_model_name": "DescriptionStyleModel",
            "description_width": "",
            "_view_module": "@jupyter-widgets/base",
            "_model_module_version": "1.5.0",
            "_view_count": null,
            "_view_module_version": "1.2.0",
            "_model_module": "@jupyter-widgets/controls"
          }
        },
        "f376acaf27d54d21960697b7b0050eff": {
          "model_module": "@jupyter-widgets/base",
          "model_name": "LayoutModel",
          "state": {
            "_view_name": "LayoutView",
            "grid_template_rows": null,
            "right": null,
            "justify_content": null,
            "_view_module": "@jupyter-widgets/base",
            "overflow": null,
            "_model_module_version": "1.2.0",
            "_view_count": null,
            "flex_flow": null,
            "width": null,
            "min_width": null,
            "border": null,
            "align_items": null,
            "bottom": null,
            "_model_module": "@jupyter-widgets/base",
            "top": null,
            "grid_column": null,
            "overflow_y": null,
            "overflow_x": null,
            "grid_auto_flow": null,
            "grid_area": null,
            "grid_template_columns": null,
            "flex": null,
            "_model_name": "LayoutModel",
            "justify_items": null,
            "grid_row": null,
            "max_height": null,
            "align_content": null,
            "visibility": null,
            "align_self": null,
            "height": null,
            "min_height": null,
            "padding": null,
            "grid_auto_rows": null,
            "grid_gap": null,
            "max_width": null,
            "order": null,
            "_view_module_version": "1.2.0",
            "grid_template_areas": null,
            "object_position": null,
            "object_fit": null,
            "grid_auto_columns": null,
            "margin": null,
            "display": null,
            "left": null
          }
        },
        "46765211a3da494a88f3fab708737020": {
          "model_module": "@jupyter-widgets/controls",
          "model_name": "HBoxModel",
          "state": {
            "_view_name": "HBoxView",
            "_dom_classes": [],
            "_model_name": "HBoxModel",
            "_view_module": "@jupyter-widgets/controls",
            "_model_module_version": "1.5.0",
            "_view_count": null,
            "_view_module_version": "1.5.0",
            "box_style": "",
            "layout": "IPY_MODEL_1b739bc24cea43c6a527799920a23b75",
            "_model_module": "@jupyter-widgets/controls",
            "children": [
              "IPY_MODEL_8ecc0a890da541a2ab08e1849e8f587c",
              "IPY_MODEL_b6c777bbf26048dd9d40172c953be0d8"
            ]
          }
        },
        "1b739bc24cea43c6a527799920a23b75": {
          "model_module": "@jupyter-widgets/base",
          "model_name": "LayoutModel",
          "state": {
            "_view_name": "LayoutView",
            "grid_template_rows": null,
            "right": null,
            "justify_content": null,
            "_view_module": "@jupyter-widgets/base",
            "overflow": null,
            "_model_module_version": "1.2.0",
            "_view_count": null,
            "flex_flow": null,
            "width": null,
            "min_width": null,
            "border": null,
            "align_items": null,
            "bottom": null,
            "_model_module": "@jupyter-widgets/base",
            "top": null,
            "grid_column": null,
            "overflow_y": null,
            "overflow_x": null,
            "grid_auto_flow": null,
            "grid_area": null,
            "grid_template_columns": null,
            "flex": null,
            "_model_name": "LayoutModel",
            "justify_items": null,
            "grid_row": null,
            "max_height": null,
            "align_content": null,
            "visibility": null,
            "align_self": null,
            "height": null,
            "min_height": null,
            "padding": null,
            "grid_auto_rows": null,
            "grid_gap": null,
            "max_width": null,
            "order": null,
            "_view_module_version": "1.2.0",
            "grid_template_areas": null,
            "object_position": null,
            "object_fit": null,
            "grid_auto_columns": null,
            "margin": null,
            "display": null,
            "left": null
          }
        },
        "8ecc0a890da541a2ab08e1849e8f587c": {
          "model_module": "@jupyter-widgets/controls",
          "model_name": "FloatProgressModel",
          "state": {
            "_view_name": "ProgressView",
            "style": "IPY_MODEL_eafc585c28d14a95a4c9181b9cab2f65",
            "_dom_classes": [],
            "description": "100%",
            "_model_name": "FloatProgressModel",
            "bar_style": "success",
            "max": 4375,
            "_view_module": "@jupyter-widgets/controls",
            "_model_module_version": "1.5.0",
            "value": 4375,
            "_view_count": null,
            "_view_module_version": "1.5.0",
            "orientation": "horizontal",
            "min": 0,
            "description_tooltip": null,
            "_model_module": "@jupyter-widgets/controls",
            "layout": "IPY_MODEL_7b2196b679034b54b375a39f22557c5c"
          }
        },
        "b6c777bbf26048dd9d40172c953be0d8": {
          "model_module": "@jupyter-widgets/controls",
          "model_name": "HTMLModel",
          "state": {
            "_view_name": "HTMLView",
            "style": "IPY_MODEL_3466a16acd0a4c058da8468b3fb63e24",
            "_dom_classes": [],
            "description": "",
            "_model_name": "HTMLModel",
            "placeholder": "​",
            "_view_module": "@jupyter-widgets/controls",
            "_model_module_version": "1.5.0",
            "value": " 4375/4375 [20:47&lt;00:00,  3.51it/s]",
            "_view_count": null,
            "_view_module_version": "1.5.0",
            "description_tooltip": null,
            "_model_module": "@jupyter-widgets/controls",
            "layout": "IPY_MODEL_de78cf851f4845bcaa8b95ebaf9dcd2c"
          }
        },
        "eafc585c28d14a95a4c9181b9cab2f65": {
          "model_module": "@jupyter-widgets/controls",
          "model_name": "ProgressStyleModel",
          "state": {
            "_view_name": "StyleView",
            "_model_name": "ProgressStyleModel",
            "description_width": "initial",
            "_view_module": "@jupyter-widgets/base",
            "_model_module_version": "1.5.0",
            "_view_count": null,
            "_view_module_version": "1.2.0",
            "bar_color": null,
            "_model_module": "@jupyter-widgets/controls"
          }
        },
        "7b2196b679034b54b375a39f22557c5c": {
          "model_module": "@jupyter-widgets/base",
          "model_name": "LayoutModel",
          "state": {
            "_view_name": "LayoutView",
            "grid_template_rows": null,
            "right": null,
            "justify_content": null,
            "_view_module": "@jupyter-widgets/base",
            "overflow": null,
            "_model_module_version": "1.2.0",
            "_view_count": null,
            "flex_flow": null,
            "width": null,
            "min_width": null,
            "border": null,
            "align_items": null,
            "bottom": null,
            "_model_module": "@jupyter-widgets/base",
            "top": null,
            "grid_column": null,
            "overflow_y": null,
            "overflow_x": null,
            "grid_auto_flow": null,
            "grid_area": null,
            "grid_template_columns": null,
            "flex": null,
            "_model_name": "LayoutModel",
            "justify_items": null,
            "grid_row": null,
            "max_height": null,
            "align_content": null,
            "visibility": null,
            "align_self": null,
            "height": null,
            "min_height": null,
            "padding": null,
            "grid_auto_rows": null,
            "grid_gap": null,
            "max_width": null,
            "order": null,
            "_view_module_version": "1.2.0",
            "grid_template_areas": null,
            "object_position": null,
            "object_fit": null,
            "grid_auto_columns": null,
            "margin": null,
            "display": null,
            "left": null
          }
        },
        "3466a16acd0a4c058da8468b3fb63e24": {
          "model_module": "@jupyter-widgets/controls",
          "model_name": "DescriptionStyleModel",
          "state": {
            "_view_name": "StyleView",
            "_model_name": "DescriptionStyleModel",
            "description_width": "",
            "_view_module": "@jupyter-widgets/base",
            "_model_module_version": "1.5.0",
            "_view_count": null,
            "_view_module_version": "1.2.0",
            "_model_module": "@jupyter-widgets/controls"
          }
        },
        "de78cf851f4845bcaa8b95ebaf9dcd2c": {
          "model_module": "@jupyter-widgets/base",
          "model_name": "LayoutModel",
          "state": {
            "_view_name": "LayoutView",
            "grid_template_rows": null,
            "right": null,
            "justify_content": null,
            "_view_module": "@jupyter-widgets/base",
            "overflow": null,
            "_model_module_version": "1.2.0",
            "_view_count": null,
            "flex_flow": null,
            "width": null,
            "min_width": null,
            "border": null,
            "align_items": null,
            "bottom": null,
            "_model_module": "@jupyter-widgets/base",
            "top": null,
            "grid_column": null,
            "overflow_y": null,
            "overflow_x": null,
            "grid_auto_flow": null,
            "grid_area": null,
            "grid_template_columns": null,
            "flex": null,
            "_model_name": "LayoutModel",
            "justify_items": null,
            "grid_row": null,
            "max_height": null,
            "align_content": null,
            "visibility": null,
            "align_self": null,
            "height": null,
            "min_height": null,
            "padding": null,
            "grid_auto_rows": null,
            "grid_gap": null,
            "max_width": null,
            "order": null,
            "_view_module_version": "1.2.0",
            "grid_template_areas": null,
            "object_position": null,
            "object_fit": null,
            "grid_auto_columns": null,
            "margin": null,
            "display": null,
            "left": null
          }
        },
        "e0ae09bb0e5147b2ad87b15bb59102e6": {
          "model_module": "@jupyter-widgets/controls",
          "model_name": "HBoxModel",
          "state": {
            "_view_name": "HBoxView",
            "_dom_classes": [],
            "_model_name": "HBoxModel",
            "_view_module": "@jupyter-widgets/controls",
            "_model_module_version": "1.5.0",
            "_view_count": null,
            "_view_module_version": "1.5.0",
            "box_style": "",
            "layout": "IPY_MODEL_186965dc446740768b14efa5655be09b",
            "_model_module": "@jupyter-widgets/controls",
            "children": [
              "IPY_MODEL_26cd8fd5977b40698775d88a6914ac09",
              "IPY_MODEL_35054131a3ba41ed9a96e2f6de0e78b0"
            ]
          }
        },
        "186965dc446740768b14efa5655be09b": {
          "model_module": "@jupyter-widgets/base",
          "model_name": "LayoutModel",
          "state": {
            "_view_name": "LayoutView",
            "grid_template_rows": null,
            "right": null,
            "justify_content": null,
            "_view_module": "@jupyter-widgets/base",
            "overflow": null,
            "_model_module_version": "1.2.0",
            "_view_count": null,
            "flex_flow": null,
            "width": null,
            "min_width": null,
            "border": null,
            "align_items": null,
            "bottom": null,
            "_model_module": "@jupyter-widgets/base",
            "top": null,
            "grid_column": null,
            "overflow_y": null,
            "overflow_x": null,
            "grid_auto_flow": null,
            "grid_area": null,
            "grid_template_columns": null,
            "flex": null,
            "_model_name": "LayoutModel",
            "justify_items": null,
            "grid_row": null,
            "max_height": null,
            "align_content": null,
            "visibility": null,
            "align_self": null,
            "height": null,
            "min_height": null,
            "padding": null,
            "grid_auto_rows": null,
            "grid_gap": null,
            "max_width": null,
            "order": null,
            "_view_module_version": "1.2.0",
            "grid_template_areas": null,
            "object_position": null,
            "object_fit": null,
            "grid_auto_columns": null,
            "margin": null,
            "display": null,
            "left": null
          }
        },
        "26cd8fd5977b40698775d88a6914ac09": {
          "model_module": "@jupyter-widgets/controls",
          "model_name": "FloatProgressModel",
          "state": {
            "_view_name": "ProgressView",
            "style": "IPY_MODEL_6fec1461cdc44b1d9dc99c058a799ab5",
            "_dom_classes": [],
            "description": "100%",
            "_model_name": "FloatProgressModel",
            "bar_style": "success",
            "max": 625,
            "_view_module": "@jupyter-widgets/controls",
            "_model_module_version": "1.5.0",
            "value": 625,
            "_view_count": null,
            "_view_module_version": "1.5.0",
            "orientation": "horizontal",
            "min": 0,
            "description_tooltip": null,
            "_model_module": "@jupyter-widgets/controls",
            "layout": "IPY_MODEL_225586da52394ec5a141dad6b93cad6c"
          }
        },
        "35054131a3ba41ed9a96e2f6de0e78b0": {
          "model_module": "@jupyter-widgets/controls",
          "model_name": "HTMLModel",
          "state": {
            "_view_name": "HTMLView",
            "style": "IPY_MODEL_0d2e877f6bb64fbcb9ad8d8bd34a07c4",
            "_dom_classes": [],
            "description": "",
            "_model_name": "HTMLModel",
            "placeholder": "​",
            "_view_module": "@jupyter-widgets/controls",
            "_model_module_version": "1.5.0",
            "value": " 625/625 [00:51&lt;00:00, 12.19it/s]",
            "_view_count": null,
            "_view_module_version": "1.5.0",
            "description_tooltip": null,
            "_model_module": "@jupyter-widgets/controls",
            "layout": "IPY_MODEL_43932759f6ae49409382a27c3f265df5"
          }
        },
        "6fec1461cdc44b1d9dc99c058a799ab5": {
          "model_module": "@jupyter-widgets/controls",
          "model_name": "ProgressStyleModel",
          "state": {
            "_view_name": "StyleView",
            "_model_name": "ProgressStyleModel",
            "description_width": "initial",
            "_view_module": "@jupyter-widgets/base",
            "_model_module_version": "1.5.0",
            "_view_count": null,
            "_view_module_version": "1.2.0",
            "bar_color": null,
            "_model_module": "@jupyter-widgets/controls"
          }
        },
        "225586da52394ec5a141dad6b93cad6c": {
          "model_module": "@jupyter-widgets/base",
          "model_name": "LayoutModel",
          "state": {
            "_view_name": "LayoutView",
            "grid_template_rows": null,
            "right": null,
            "justify_content": null,
            "_view_module": "@jupyter-widgets/base",
            "overflow": null,
            "_model_module_version": "1.2.0",
            "_view_count": null,
            "flex_flow": null,
            "width": null,
            "min_width": null,
            "border": null,
            "align_items": null,
            "bottom": null,
            "_model_module": "@jupyter-widgets/base",
            "top": null,
            "grid_column": null,
            "overflow_y": null,
            "overflow_x": null,
            "grid_auto_flow": null,
            "grid_area": null,
            "grid_template_columns": null,
            "flex": null,
            "_model_name": "LayoutModel",
            "justify_items": null,
            "grid_row": null,
            "max_height": null,
            "align_content": null,
            "visibility": null,
            "align_self": null,
            "height": null,
            "min_height": null,
            "padding": null,
            "grid_auto_rows": null,
            "grid_gap": null,
            "max_width": null,
            "order": null,
            "_view_module_version": "1.2.0",
            "grid_template_areas": null,
            "object_position": null,
            "object_fit": null,
            "grid_auto_columns": null,
            "margin": null,
            "display": null,
            "left": null
          }
        },
        "0d2e877f6bb64fbcb9ad8d8bd34a07c4": {
          "model_module": "@jupyter-widgets/controls",
          "model_name": "DescriptionStyleModel",
          "state": {
            "_view_name": "StyleView",
            "_model_name": "DescriptionStyleModel",
            "description_width": "",
            "_view_module": "@jupyter-widgets/base",
            "_model_module_version": "1.5.0",
            "_view_count": null,
            "_view_module_version": "1.2.0",
            "_model_module": "@jupyter-widgets/controls"
          }
        },
        "43932759f6ae49409382a27c3f265df5": {
          "model_module": "@jupyter-widgets/base",
          "model_name": "LayoutModel",
          "state": {
            "_view_name": "LayoutView",
            "grid_template_rows": null,
            "right": null,
            "justify_content": null,
            "_view_module": "@jupyter-widgets/base",
            "overflow": null,
            "_model_module_version": "1.2.0",
            "_view_count": null,
            "flex_flow": null,
            "width": null,
            "min_width": null,
            "border": null,
            "align_items": null,
            "bottom": null,
            "_model_module": "@jupyter-widgets/base",
            "top": null,
            "grid_column": null,
            "overflow_y": null,
            "overflow_x": null,
            "grid_auto_flow": null,
            "grid_area": null,
            "grid_template_columns": null,
            "flex": null,
            "_model_name": "LayoutModel",
            "justify_items": null,
            "grid_row": null,
            "max_height": null,
            "align_content": null,
            "visibility": null,
            "align_self": null,
            "height": null,
            "min_height": null,
            "padding": null,
            "grid_auto_rows": null,
            "grid_gap": null,
            "max_width": null,
            "order": null,
            "_view_module_version": "1.2.0",
            "grid_template_areas": null,
            "object_position": null,
            "object_fit": null,
            "grid_auto_columns": null,
            "margin": null,
            "display": null,
            "left": null
          }
        },
        "967225439f584937a5b6c2985f43cfe7": {
          "model_module": "@jupyter-widgets/controls",
          "model_name": "HBoxModel",
          "state": {
            "_view_name": "HBoxView",
            "_dom_classes": [],
            "_model_name": "HBoxModel",
            "_view_module": "@jupyter-widgets/controls",
            "_model_module_version": "1.5.0",
            "_view_count": null,
            "_view_module_version": "1.5.0",
            "box_style": "",
            "layout": "IPY_MODEL_5b3e18f051ef4093a4f9a5e5597db6df",
            "_model_module": "@jupyter-widgets/controls",
            "children": [
              "IPY_MODEL_a5fc2a7fd89043a09b86366235f54ed9",
              "IPY_MODEL_50ec8ea970ad4b6a8d6e7479d14b9c72"
            ]
          }
        },
        "5b3e18f051ef4093a4f9a5e5597db6df": {
          "model_module": "@jupyter-widgets/base",
          "model_name": "LayoutModel",
          "state": {
            "_view_name": "LayoutView",
            "grid_template_rows": null,
            "right": null,
            "justify_content": null,
            "_view_module": "@jupyter-widgets/base",
            "overflow": null,
            "_model_module_version": "1.2.0",
            "_view_count": null,
            "flex_flow": null,
            "width": null,
            "min_width": null,
            "border": null,
            "align_items": null,
            "bottom": null,
            "_model_module": "@jupyter-widgets/base",
            "top": null,
            "grid_column": null,
            "overflow_y": null,
            "overflow_x": null,
            "grid_auto_flow": null,
            "grid_area": null,
            "grid_template_columns": null,
            "flex": null,
            "_model_name": "LayoutModel",
            "justify_items": null,
            "grid_row": null,
            "max_height": null,
            "align_content": null,
            "visibility": null,
            "align_self": null,
            "height": null,
            "min_height": null,
            "padding": null,
            "grid_auto_rows": null,
            "grid_gap": null,
            "max_width": null,
            "order": null,
            "_view_module_version": "1.2.0",
            "grid_template_areas": null,
            "object_position": null,
            "object_fit": null,
            "grid_auto_columns": null,
            "margin": null,
            "display": null,
            "left": null
          }
        },
        "a5fc2a7fd89043a09b86366235f54ed9": {
          "model_module": "@jupyter-widgets/controls",
          "model_name": "FloatProgressModel",
          "state": {
            "_view_name": "ProgressView",
            "style": "IPY_MODEL_d730c93520474bc0b1a2475a44ed33ca",
            "_dom_classes": [],
            "description": "  1%",
            "_model_name": "FloatProgressModel",
            "bar_style": "",
            "max": 4375,
            "_view_module": "@jupyter-widgets/controls",
            "_model_module_version": "1.5.0",
            "value": 53,
            "_view_count": null,
            "_view_module_version": "1.5.0",
            "orientation": "horizontal",
            "min": 0,
            "description_tooltip": null,
            "_model_module": "@jupyter-widgets/controls",
            "layout": "IPY_MODEL_654da36846014ba6be4a7b4dfb26907c"
          }
        },
        "50ec8ea970ad4b6a8d6e7479d14b9c72": {
          "model_module": "@jupyter-widgets/controls",
          "model_name": "HTMLModel",
          "state": {
            "_view_name": "HTMLView",
            "style": "IPY_MODEL_4f521b067a0041789a01fcdd368d27f1",
            "_dom_classes": [],
            "description": "",
            "_model_name": "HTMLModel",
            "placeholder": "​",
            "_view_module": "@jupyter-widgets/controls",
            "_model_module_version": "1.5.0",
            "value": " 53/4375 [00:18&lt;20:15,  3.56it/s]",
            "_view_count": null,
            "_view_module_version": "1.5.0",
            "description_tooltip": null,
            "_model_module": "@jupyter-widgets/controls",
            "layout": "IPY_MODEL_58a2b11b64d14820a335d7ca886a272d"
          }
        },
        "d730c93520474bc0b1a2475a44ed33ca": {
          "model_module": "@jupyter-widgets/controls",
          "model_name": "ProgressStyleModel",
          "state": {
            "_view_name": "StyleView",
            "_model_name": "ProgressStyleModel",
            "description_width": "initial",
            "_view_module": "@jupyter-widgets/base",
            "_model_module_version": "1.5.0",
            "_view_count": null,
            "_view_module_version": "1.2.0",
            "bar_color": null,
            "_model_module": "@jupyter-widgets/controls"
          }
        },
        "654da36846014ba6be4a7b4dfb26907c": {
          "model_module": "@jupyter-widgets/base",
          "model_name": "LayoutModel",
          "state": {
            "_view_name": "LayoutView",
            "grid_template_rows": null,
            "right": null,
            "justify_content": null,
            "_view_module": "@jupyter-widgets/base",
            "overflow": null,
            "_model_module_version": "1.2.0",
            "_view_count": null,
            "flex_flow": null,
            "width": null,
            "min_width": null,
            "border": null,
            "align_items": null,
            "bottom": null,
            "_model_module": "@jupyter-widgets/base",
            "top": null,
            "grid_column": null,
            "overflow_y": null,
            "overflow_x": null,
            "grid_auto_flow": null,
            "grid_area": null,
            "grid_template_columns": null,
            "flex": null,
            "_model_name": "LayoutModel",
            "justify_items": null,
            "grid_row": null,
            "max_height": null,
            "align_content": null,
            "visibility": null,
            "align_self": null,
            "height": null,
            "min_height": null,
            "padding": null,
            "grid_auto_rows": null,
            "grid_gap": null,
            "max_width": null,
            "order": null,
            "_view_module_version": "1.2.0",
            "grid_template_areas": null,
            "object_position": null,
            "object_fit": null,
            "grid_auto_columns": null,
            "margin": null,
            "display": null,
            "left": null
          }
        },
        "4f521b067a0041789a01fcdd368d27f1": {
          "model_module": "@jupyter-widgets/controls",
          "model_name": "DescriptionStyleModel",
          "state": {
            "_view_name": "StyleView",
            "_model_name": "DescriptionStyleModel",
            "description_width": "",
            "_view_module": "@jupyter-widgets/base",
            "_model_module_version": "1.5.0",
            "_view_count": null,
            "_view_module_version": "1.2.0",
            "_model_module": "@jupyter-widgets/controls"
          }
        },
        "58a2b11b64d14820a335d7ca886a272d": {
          "model_module": "@jupyter-widgets/base",
          "model_name": "LayoutModel",
          "state": {
            "_view_name": "LayoutView",
            "grid_template_rows": null,
            "right": null,
            "justify_content": null,
            "_view_module": "@jupyter-widgets/base",
            "overflow": null,
            "_model_module_version": "1.2.0",
            "_view_count": null,
            "flex_flow": null,
            "width": null,
            "min_width": null,
            "border": null,
            "align_items": null,
            "bottom": null,
            "_model_module": "@jupyter-widgets/base",
            "top": null,
            "grid_column": null,
            "overflow_y": null,
            "overflow_x": null,
            "grid_auto_flow": null,
            "grid_area": null,
            "grid_template_columns": null,
            "flex": null,
            "_model_name": "LayoutModel",
            "justify_items": null,
            "grid_row": null,
            "max_height": null,
            "align_content": null,
            "visibility": null,
            "align_self": null,
            "height": null,
            "min_height": null,
            "padding": null,
            "grid_auto_rows": null,
            "grid_gap": null,
            "max_width": null,
            "order": null,
            "_view_module_version": "1.2.0",
            "grid_template_areas": null,
            "object_position": null,
            "object_fit": null,
            "grid_auto_columns": null,
            "margin": null,
            "display": null,
            "left": null
          }
        }
      }
    }
  },
  "cells": [
    {
      "cell_type": "code",
      "metadata": {
        "colab": {
          "base_uri": "https://localhost:8080/",
          "height": 576
        },
        "id": "aCe5b2SRWpCc",
        "outputId": "0fc56341-a10b-4f01-d2a7-15fbe7175375"
      },
      "source": [
        "!ls\n",
        "from google.colab import drive\n",
        "drive.mount('/content/drive')"
      ],
      "execution_count": null,
      "outputs": [
        {
          "output_type": "stream",
          "text": [
            "sample_data\n"
          ],
          "name": "stdout"
        },
        {
          "output_type": "error",
          "ename": "KeyboardInterrupt",
          "evalue": "ignored",
          "traceback": [
            "\u001b[0;31m---------------------------------------------------------------------------\u001b[0m",
            "\u001b[0;31mKeyboardInterrupt\u001b[0m                         Traceback (most recent call last)",
            "\u001b[0;32m/usr/local/lib/python3.6/dist-packages/ipykernel/kernelbase.py\u001b[0m in \u001b[0;36m_input_request\u001b[0;34m(self, prompt, ident, parent, password)\u001b[0m\n\u001b[1;32m    728\u001b[0m             \u001b[0;32mtry\u001b[0m\u001b[0;34m:\u001b[0m\u001b[0;34m\u001b[0m\u001b[0;34m\u001b[0m\u001b[0m\n\u001b[0;32m--> 729\u001b[0;31m                 \u001b[0mident\u001b[0m\u001b[0;34m,\u001b[0m \u001b[0mreply\u001b[0m \u001b[0;34m=\u001b[0m \u001b[0mself\u001b[0m\u001b[0;34m.\u001b[0m\u001b[0msession\u001b[0m\u001b[0;34m.\u001b[0m\u001b[0mrecv\u001b[0m\u001b[0;34m(\u001b[0m\u001b[0mself\u001b[0m\u001b[0;34m.\u001b[0m\u001b[0mstdin_socket\u001b[0m\u001b[0;34m,\u001b[0m \u001b[0;36m0\u001b[0m\u001b[0;34m)\u001b[0m\u001b[0;34m\u001b[0m\u001b[0;34m\u001b[0m\u001b[0m\n\u001b[0m\u001b[1;32m    730\u001b[0m             \u001b[0;32mexcept\u001b[0m \u001b[0mException\u001b[0m\u001b[0;34m:\u001b[0m\u001b[0;34m\u001b[0m\u001b[0;34m\u001b[0m\u001b[0m\n",
            "\u001b[0;32m/usr/local/lib/python3.6/dist-packages/jupyter_client/session.py\u001b[0m in \u001b[0;36mrecv\u001b[0;34m(self, socket, mode, content, copy)\u001b[0m\n\u001b[1;32m    802\u001b[0m         \u001b[0;32mtry\u001b[0m\u001b[0;34m:\u001b[0m\u001b[0;34m\u001b[0m\u001b[0;34m\u001b[0m\u001b[0m\n\u001b[0;32m--> 803\u001b[0;31m             \u001b[0mmsg_list\u001b[0m \u001b[0;34m=\u001b[0m \u001b[0msocket\u001b[0m\u001b[0;34m.\u001b[0m\u001b[0mrecv_multipart\u001b[0m\u001b[0;34m(\u001b[0m\u001b[0mmode\u001b[0m\u001b[0;34m,\u001b[0m \u001b[0mcopy\u001b[0m\u001b[0;34m=\u001b[0m\u001b[0mcopy\u001b[0m\u001b[0;34m)\u001b[0m\u001b[0;34m\u001b[0m\u001b[0;34m\u001b[0m\u001b[0m\n\u001b[0m\u001b[1;32m    804\u001b[0m         \u001b[0;32mexcept\u001b[0m \u001b[0mzmq\u001b[0m\u001b[0;34m.\u001b[0m\u001b[0mZMQError\u001b[0m \u001b[0;32mas\u001b[0m \u001b[0me\u001b[0m\u001b[0;34m:\u001b[0m\u001b[0;34m\u001b[0m\u001b[0;34m\u001b[0m\u001b[0m\n",
            "\u001b[0;32m/usr/local/lib/python3.6/dist-packages/zmq/sugar/socket.py\u001b[0m in \u001b[0;36mrecv_multipart\u001b[0;34m(self, flags, copy, track)\u001b[0m\n\u001b[1;32m    565\u001b[0m         \"\"\"\n\u001b[0;32m--> 566\u001b[0;31m         \u001b[0mparts\u001b[0m \u001b[0;34m=\u001b[0m \u001b[0;34m[\u001b[0m\u001b[0mself\u001b[0m\u001b[0;34m.\u001b[0m\u001b[0mrecv\u001b[0m\u001b[0;34m(\u001b[0m\u001b[0mflags\u001b[0m\u001b[0;34m,\u001b[0m \u001b[0mcopy\u001b[0m\u001b[0;34m=\u001b[0m\u001b[0mcopy\u001b[0m\u001b[0;34m,\u001b[0m \u001b[0mtrack\u001b[0m\u001b[0;34m=\u001b[0m\u001b[0mtrack\u001b[0m\u001b[0;34m)\u001b[0m\u001b[0;34m]\u001b[0m\u001b[0;34m\u001b[0m\u001b[0;34m\u001b[0m\u001b[0m\n\u001b[0m\u001b[1;32m    567\u001b[0m         \u001b[0;31m# have first part already, only loop while more to receive\u001b[0m\u001b[0;34m\u001b[0m\u001b[0;34m\u001b[0m\u001b[0;34m\u001b[0m\u001b[0m\n",
            "\u001b[0;32mzmq/backend/cython/socket.pyx\u001b[0m in \u001b[0;36mzmq.backend.cython.socket.Socket.recv\u001b[0;34m()\u001b[0m\n",
            "\u001b[0;32mzmq/backend/cython/socket.pyx\u001b[0m in \u001b[0;36mzmq.backend.cython.socket.Socket.recv\u001b[0;34m()\u001b[0m\n",
            "\u001b[0;32mzmq/backend/cython/socket.pyx\u001b[0m in \u001b[0;36mzmq.backend.cython.socket._recv_copy\u001b[0;34m()\u001b[0m\n",
            "\u001b[0;32m/usr/local/lib/python3.6/dist-packages/zmq/backend/cython/checkrc.pxd\u001b[0m in \u001b[0;36mzmq.backend.cython.checkrc._check_rc\u001b[0;34m()\u001b[0m\n",
            "\u001b[0;31mKeyboardInterrupt\u001b[0m: ",
            "\nDuring handling of the above exception, another exception occurred:\n",
            "\u001b[0;31mKeyboardInterrupt\u001b[0m                         Traceback (most recent call last)",
            "\u001b[0;32m<ipython-input-1-550532875d67>\u001b[0m in \u001b[0;36m<module>\u001b[0;34m()\u001b[0m\n\u001b[1;32m      1\u001b[0m \u001b[0mget_ipython\u001b[0m\u001b[0;34m(\u001b[0m\u001b[0;34m)\u001b[0m\u001b[0;34m.\u001b[0m\u001b[0msystem\u001b[0m\u001b[0;34m(\u001b[0m\u001b[0;34m'ls'\u001b[0m\u001b[0;34m)\u001b[0m\u001b[0;34m\u001b[0m\u001b[0;34m\u001b[0m\u001b[0m\n\u001b[1;32m      2\u001b[0m \u001b[0;32mfrom\u001b[0m \u001b[0mgoogle\u001b[0m\u001b[0;34m.\u001b[0m\u001b[0mcolab\u001b[0m \u001b[0;32mimport\u001b[0m \u001b[0mdrive\u001b[0m\u001b[0;34m\u001b[0m\u001b[0;34m\u001b[0m\u001b[0m\n\u001b[0;32m----> 3\u001b[0;31m \u001b[0mdrive\u001b[0m\u001b[0;34m.\u001b[0m\u001b[0mmount\u001b[0m\u001b[0;34m(\u001b[0m\u001b[0;34m'/content/drive'\u001b[0m\u001b[0;34m)\u001b[0m\u001b[0;34m\u001b[0m\u001b[0;34m\u001b[0m\u001b[0m\n\u001b[0m",
            "\u001b[0;32m/usr/local/lib/python3.6/dist-packages/google/colab/drive.py\u001b[0m in \u001b[0;36mmount\u001b[0;34m(mountpoint, force_remount, timeout_ms, use_metadata_server)\u001b[0m\n\u001b[1;32m    249\u001b[0m       \u001b[0;32mwith\u001b[0m \u001b[0m_output\u001b[0m\u001b[0;34m.\u001b[0m\u001b[0muse_tags\u001b[0m\u001b[0;34m(\u001b[0m\u001b[0;34m'dfs-auth-dance'\u001b[0m\u001b[0;34m)\u001b[0m\u001b[0;34m:\u001b[0m\u001b[0;34m\u001b[0m\u001b[0;34m\u001b[0m\u001b[0m\n\u001b[1;32m    250\u001b[0m         \u001b[0;32mwith\u001b[0m \u001b[0mopen\u001b[0m\u001b[0;34m(\u001b[0m\u001b[0mfifo\u001b[0m\u001b[0;34m,\u001b[0m \u001b[0;34m'w'\u001b[0m\u001b[0;34m)\u001b[0m \u001b[0;32mas\u001b[0m \u001b[0mfifo_file\u001b[0m\u001b[0;34m:\u001b[0m\u001b[0;34m\u001b[0m\u001b[0;34m\u001b[0m\u001b[0m\n\u001b[0;32m--> 251\u001b[0;31m           \u001b[0mfifo_file\u001b[0m\u001b[0;34m.\u001b[0m\u001b[0mwrite\u001b[0m\u001b[0;34m(\u001b[0m\u001b[0mget_code\u001b[0m\u001b[0;34m(\u001b[0m\u001b[0mauth_prompt\u001b[0m\u001b[0;34m)\u001b[0m \u001b[0;34m+\u001b[0m \u001b[0;34m'\\n'\u001b[0m\u001b[0;34m)\u001b[0m\u001b[0;34m\u001b[0m\u001b[0;34m\u001b[0m\u001b[0m\n\u001b[0m\u001b[1;32m    252\u001b[0m       \u001b[0mwrote_to_fifo\u001b[0m \u001b[0;34m=\u001b[0m \u001b[0;32mTrue\u001b[0m\u001b[0;34m\u001b[0m\u001b[0;34m\u001b[0m\u001b[0m\n\u001b[1;32m    253\u001b[0m     \u001b[0;32melif\u001b[0m \u001b[0mcase\u001b[0m \u001b[0;34m==\u001b[0m \u001b[0;36m5\u001b[0m\u001b[0;34m:\u001b[0m\u001b[0;34m\u001b[0m\u001b[0;34m\u001b[0m\u001b[0m\n",
            "\u001b[0;32m/usr/local/lib/python3.6/dist-packages/ipykernel/kernelbase.py\u001b[0m in \u001b[0;36mraw_input\u001b[0;34m(self, prompt)\u001b[0m\n\u001b[1;32m    702\u001b[0m             \u001b[0mself\u001b[0m\u001b[0;34m.\u001b[0m\u001b[0m_parent_ident\u001b[0m\u001b[0;34m,\u001b[0m\u001b[0;34m\u001b[0m\u001b[0;34m\u001b[0m\u001b[0m\n\u001b[1;32m    703\u001b[0m             \u001b[0mself\u001b[0m\u001b[0;34m.\u001b[0m\u001b[0m_parent_header\u001b[0m\u001b[0;34m,\u001b[0m\u001b[0;34m\u001b[0m\u001b[0;34m\u001b[0m\u001b[0m\n\u001b[0;32m--> 704\u001b[0;31m             \u001b[0mpassword\u001b[0m\u001b[0;34m=\u001b[0m\u001b[0;32mFalse\u001b[0m\u001b[0;34m,\u001b[0m\u001b[0;34m\u001b[0m\u001b[0;34m\u001b[0m\u001b[0m\n\u001b[0m\u001b[1;32m    705\u001b[0m         )\n\u001b[1;32m    706\u001b[0m \u001b[0;34m\u001b[0m\u001b[0m\n",
            "\u001b[0;32m/usr/local/lib/python3.6/dist-packages/ipykernel/kernelbase.py\u001b[0m in \u001b[0;36m_input_request\u001b[0;34m(self, prompt, ident, parent, password)\u001b[0m\n\u001b[1;32m    732\u001b[0m             \u001b[0;32mexcept\u001b[0m \u001b[0mKeyboardInterrupt\u001b[0m\u001b[0;34m:\u001b[0m\u001b[0;34m\u001b[0m\u001b[0;34m\u001b[0m\u001b[0m\n\u001b[1;32m    733\u001b[0m                 \u001b[0;31m# re-raise KeyboardInterrupt, to truncate traceback\u001b[0m\u001b[0;34m\u001b[0m\u001b[0;34m\u001b[0m\u001b[0;34m\u001b[0m\u001b[0m\n\u001b[0;32m--> 734\u001b[0;31m                 \u001b[0;32mraise\u001b[0m \u001b[0mKeyboardInterrupt\u001b[0m\u001b[0;34m\u001b[0m\u001b[0;34m\u001b[0m\u001b[0m\n\u001b[0m\u001b[1;32m    735\u001b[0m             \u001b[0;32melse\u001b[0m\u001b[0;34m:\u001b[0m\u001b[0;34m\u001b[0m\u001b[0;34m\u001b[0m\u001b[0m\n\u001b[1;32m    736\u001b[0m                 \u001b[0;32mbreak\u001b[0m\u001b[0;34m\u001b[0m\u001b[0;34m\u001b[0m\u001b[0m\n",
            "\u001b[0;31mKeyboardInterrupt\u001b[0m: "
          ]
        }
      ]
    },
    {
      "cell_type": "code",
      "metadata": {
        "colab": {
          "base_uri": "https://localhost:8080/"
        },
        "id": "t6aFIJTxRfwd",
        "outputId": "f4a1d190-09c0-454e-ad1f-6750e5764160"
      },
      "source": [
        "!wget http://www.cfilt.iitb.ac.in/iitb_parallel/iitb_corpus_download/parallel.tgz "
      ],
      "execution_count": null,
      "outputs": [
        {
          "output_type": "stream",
          "text": [
            "--2020-11-30 16:35:56--  http://www.cfilt.iitb.ac.in/iitb_parallel/iitb_corpus_download/parallel.tgz\n",
            "Resolving www.cfilt.iitb.ac.in (www.cfilt.iitb.ac.in)... 103.21.127.130\n",
            "Connecting to www.cfilt.iitb.ac.in (www.cfilt.iitb.ac.in)|103.21.127.130|:80... connected.\n",
            "HTTP request sent, awaiting response... 200 OK\n",
            "Length: 100235015 (96M) [application/x-gzip]\n",
            "Saving to: ‘parallel.tgz’\n",
            "\n",
            "parallel.tgz        100%[===================>]  95.59M  2.60MB/s    in 55s     \n",
            "\n",
            "2020-11-30 16:36:51 (1.75 MB/s) - ‘parallel.tgz’ saved [100235015/100235015]\n",
            "\n"
          ],
          "name": "stdout"
        }
      ]
    },
    {
      "cell_type": "code",
      "metadata": {
        "colab": {
          "base_uri": "https://localhost:8080/"
        },
        "id": "uliyazHfRhir",
        "outputId": "0bddcf64-8e8b-4d65-a1a1-7f3a7d3a47ea"
      },
      "source": [
        "!tar -xzvf parallel.tgz\n",
        "!ls"
      ],
      "execution_count": null,
      "outputs": [
        {
          "output_type": "stream",
          "text": [
            "parallel/\n",
            "parallel/IITB.en-hi.hi\n",
            "parallel/IITB.en-hi.en\n",
            "parallel  parallel.tgz\tsample_data\n"
          ],
          "name": "stdout"
        }
      ]
    },
    {
      "cell_type": "code",
      "metadata": {
        "colab": {
          "base_uri": "https://localhost:8080/"
        },
        "id": "fSiWRH7pRiap",
        "outputId": "1bc0c2af-b98b-4355-997e-dadc3536e377"
      },
      "source": [
        "import pickle\n",
        "from collections import defaultdict\n",
        "import pandas as pd\n",
        "\n",
        "cnt=0;\n",
        "fe=open(\"parallel/IITB.en-hi.en\",\"rb\")\n",
        "fh=open(\"parallel/IITB.en-hi.hi\",\"rb\")\n",
        "\n",
        "d=defaultdict(list)\n",
        "for x in fe.readlines():\n",
        "\td['english'].append(x.decode('utf-8'))\n",
        "\t# d['hindi'].append(data['hindi'][ind])\n",
        "\tcnt+=1\n",
        "\tif cnt>=200000:\n",
        "\t\tbreak\n",
        "cntt=0\n",
        "for x in fh.readlines():\n",
        "\td['hindi'].append(x.decode('utf-8'))\n",
        "\tcntt+=1\n",
        "\tif cntt>=200000:\n",
        "\t\tbreak\n",
        "print(len(d['hindi']))\n",
        "print(len(d['english']))\n",
        "print(cntt,cnt)\n",
        "data = pd.DataFrame(d)\n",
        "print(data.shape)\n",
        "cnt=0\n",
        "filename=\"IITB_input.pkl\"\n",
        "outfile=open(filename,'wb')\n",
        "pickle.dump(data,outfile)\n",
        "outfile.close()\n",
        "with open('IITB_input.pkl', 'rb') as f:\n",
        "    dat = pickle.load(f)\n",
        "\n",
        "print(type(dat))\n",
        "cnt=0\n",
        "for ind in dat.index: \n",
        "    print(dat['english'][ind], dat['hindi'][ind])\n",
        "    cnt+=1\n",
        "    if cnt>=10:\n",
        "\t    break \n",
        "\n",
        "\n",
        "!ls"
      ],
      "execution_count": null,
      "outputs": [
        {
          "output_type": "stream",
          "text": [
            "200000\n",
            "200000\n",
            "200000 200000\n",
            "(200000, 2)\n",
            "<class 'pandas.core.frame.DataFrame'>\n",
            "Give your application an accessibility workout\n",
            " अपने अनुप्रयोग को पहुंचनीयता व्यायाम का लाभ दें\n",
            "\n",
            "Accerciser Accessibility Explorer\n",
            " एक्सेर्साइसर पहुंचनीयता अन्वेषक\n",
            "\n",
            "The default plugin layout for the bottom panel\n",
            " निचले पटल के लिए डिफोल्ट प्लग-इन खाका\n",
            "\n",
            "The default plugin layout for the top panel\n",
            " ऊपरी पटल के लिए डिफोल्ट प्लग-इन खाका\n",
            "\n",
            "A list of plugins that are disabled by default\n",
            " उन प्लग-इनों की सूची जिन्हें डिफोल्ट रूप से निष्क्रिय किया गया है\n",
            "\n",
            "Highlight duration\n",
            " अवधि को हाइलाइट रकें\n",
            "\n",
            "The duration of the highlight box when selecting accessible nodes\n",
            " पहुंचनीय आसंधि (नोड) को चुनते समय हाइलाइट बक्से की अवधि\n",
            "\n",
            "Highlight border color\n",
            " सीमांत (बोर्डर) के रंग को हाइलाइट करें\n",
            "\n",
            "The color and opacity of the highlight border.\n",
            " हाइलाइट किए गए सीमांत का रंग और अपारदर्शिता। \n",
            "\n",
            "Highlight fill color\n",
            " भराई के रंग को हाइलाइट करें\n",
            "\n",
            "IITB_input.pkl\tparallel  parallel.tgz\tsample_data\n"
          ],
          "name": "stdout"
        }
      ]
    },
    {
      "cell_type": "code",
      "metadata": {
        "id": "MlAMBN3ddQBK"
      },
      "source": [
        "import pickle"
      ],
      "execution_count": null,
      "outputs": []
    },
    {
      "cell_type": "code",
      "metadata": {
        "id": "cw7tSYM9zODV"
      },
      "source": [
        "import torch\n",
        "import torch.nn as nn\n",
        "import torch.optim as optim\n",
        "import torch.nn.functional as F\n",
        "from tqdm.notebook import tqdm \n",
        "\n",
        "\n",
        "device = torch.device(\"cuda\")"
      ],
      "execution_count": null,
      "outputs": []
    },
    {
      "cell_type": "code",
      "metadata": {
        "id": "evHaIgobzPN7"
      },
      "source": [
        "from torchtext import data\n",
        "from torchtext.data import Field, BucketIterator\n",
        "\n",
        "import numpy as np\n"
      ],
      "execution_count": null,
      "outputs": []
    },
    {
      "cell_type": "code",
      "metadata": {
        "colab": {
          "base_uri": "https://localhost:8080/"
        },
        "id": "QRUw8UtHzQGw",
        "outputId": "d6ad7b5e-a23c-41ff-eb58-83f89f393fd3"
      },
      "source": [
        "!pip install indic-nlp-library"
      ],
      "execution_count": null,
      "outputs": [
        {
          "output_type": "stream",
          "text": [
            "Collecting indic-nlp-library\n",
            "  Downloading https://files.pythonhosted.org/packages/2f/51/f4e4542a226055b73a621ad442c16ae2c913d6b497283c99cae7a9661e6c/indic_nlp_library-0.71-py3-none-any.whl\n",
            "Requirement already satisfied: pandas in /usr/local/lib/python3.6/dist-packages (from indic-nlp-library) (1.1.4)\n",
            "Collecting morfessor\n",
            "  Downloading https://files.pythonhosted.org/packages/39/e6/7afea30be2ee4d29ce9de0fa53acbb033163615f849515c0b1956ad074ee/Morfessor-2.0.6-py3-none-any.whl\n",
            "Requirement already satisfied: numpy in /usr/local/lib/python3.6/dist-packages (from indic-nlp-library) (1.18.5)\n",
            "Requirement already satisfied: pytz>=2017.2 in /usr/local/lib/python3.6/dist-packages (from pandas->indic-nlp-library) (2018.9)\n",
            "Requirement already satisfied: python-dateutil>=2.7.3 in /usr/local/lib/python3.6/dist-packages (from pandas->indic-nlp-library) (2.8.1)\n",
            "Requirement already satisfied: six>=1.5 in /usr/local/lib/python3.6/dist-packages (from python-dateutil>=2.7.3->pandas->indic-nlp-library) (1.15.0)\n",
            "Installing collected packages: morfessor, indic-nlp-library\n",
            "Successfully installed indic-nlp-library-0.71 morfessor-2.0.6\n"
          ],
          "name": "stdout"
        }
      ]
    },
    {
      "cell_type": "code",
      "metadata": {
        "colab": {
          "base_uri": "https://localhost:8080/",
          "height": 648
        },
        "id": "_nbI4Sv4zQ6l",
        "outputId": "6de1a569-5359-4c72-cd93-4ae7ba29549e"
      },
      "source": [
        "import pandas as pd\n",
        "df = pd.read_pickle(\"./IITB_input.pkl\")\n",
        "df.head(20)"
      ],
      "execution_count": null,
      "outputs": [
        {
          "output_type": "execute_result",
          "data": {
            "text/html": [
              "<div>\n",
              "<style scoped>\n",
              "    .dataframe tbody tr th:only-of-type {\n",
              "        vertical-align: middle;\n",
              "    }\n",
              "\n",
              "    .dataframe tbody tr th {\n",
              "        vertical-align: top;\n",
              "    }\n",
              "\n",
              "    .dataframe thead th {\n",
              "        text-align: right;\n",
              "    }\n",
              "</style>\n",
              "<table border=\"1\" class=\"dataframe\">\n",
              "  <thead>\n",
              "    <tr style=\"text-align: right;\">\n",
              "      <th></th>\n",
              "      <th>english</th>\n",
              "      <th>hindi</th>\n",
              "    </tr>\n",
              "  </thead>\n",
              "  <tbody>\n",
              "    <tr>\n",
              "      <th>0</th>\n",
              "      <td>Give your application an accessibility workout\\n</td>\n",
              "      <td>अपने अनुप्रयोग को पहुंचनीयता व्यायाम का लाभ दें\\n</td>\n",
              "    </tr>\n",
              "    <tr>\n",
              "      <th>1</th>\n",
              "      <td>Accerciser Accessibility Explorer\\n</td>\n",
              "      <td>एक्सेर्साइसर पहुंचनीयता अन्वेषक\\n</td>\n",
              "    </tr>\n",
              "    <tr>\n",
              "      <th>2</th>\n",
              "      <td>The default plugin layout for the bottom panel\\n</td>\n",
              "      <td>निचले पटल के लिए डिफोल्ट प्लग-इन खाका\\n</td>\n",
              "    </tr>\n",
              "    <tr>\n",
              "      <th>3</th>\n",
              "      <td>The default plugin layout for the top panel\\n</td>\n",
              "      <td>ऊपरी पटल के लिए डिफोल्ट प्लग-इन खाका\\n</td>\n",
              "    </tr>\n",
              "    <tr>\n",
              "      <th>4</th>\n",
              "      <td>A list of plugins that are disabled by default\\n</td>\n",
              "      <td>उन प्लग-इनों की सूची जिन्हें डिफोल्ट रूप से नि...</td>\n",
              "    </tr>\n",
              "    <tr>\n",
              "      <th>5</th>\n",
              "      <td>Highlight duration\\n</td>\n",
              "      <td>अवधि को हाइलाइट रकें\\n</td>\n",
              "    </tr>\n",
              "    <tr>\n",
              "      <th>6</th>\n",
              "      <td>The duration of the highlight box when selecti...</td>\n",
              "      <td>पहुंचनीय आसंधि (नोड) को चुनते समय हाइलाइट बक्स...</td>\n",
              "    </tr>\n",
              "    <tr>\n",
              "      <th>7</th>\n",
              "      <td>Highlight border color\\n</td>\n",
              "      <td>सीमांत (बोर्डर) के रंग को हाइलाइट करें\\n</td>\n",
              "    </tr>\n",
              "    <tr>\n",
              "      <th>8</th>\n",
              "      <td>The color and opacity of the highlight border.\\n</td>\n",
              "      <td>हाइलाइट किए गए सीमांत का रंग और अपारदर्शिता। \\n</td>\n",
              "    </tr>\n",
              "    <tr>\n",
              "      <th>9</th>\n",
              "      <td>Highlight fill color\\n</td>\n",
              "      <td>भराई के रंग को हाइलाइट करें\\n</td>\n",
              "    </tr>\n",
              "    <tr>\n",
              "      <th>10</th>\n",
              "      <td>The color and opacity of the highlight fill.\\n</td>\n",
              "      <td>हाइलाइट किया गया भराई का रंग और पारदर्शिता। \\n</td>\n",
              "    </tr>\n",
              "    <tr>\n",
              "      <th>11</th>\n",
              "      <td>API Browser\\n</td>\n",
              "      <td>एपीआई विचरक\\n</td>\n",
              "    </tr>\n",
              "    <tr>\n",
              "      <th>12</th>\n",
              "      <td>Browse the various methods of the current acce...</td>\n",
              "      <td>इस समय जिसे प्राप्त किया गया हो, उसकी विभिन्न ...</td>\n",
              "    </tr>\n",
              "    <tr>\n",
              "      <th>13</th>\n",
              "      <td>Hide private attributes\\n</td>\n",
              "      <td>निजी गुणों को छिपाएं\\n</td>\n",
              "    </tr>\n",
              "    <tr>\n",
              "      <th>14</th>\n",
              "      <td>Method\\n</td>\n",
              "      <td>विधि\\n</td>\n",
              "    </tr>\n",
              "    <tr>\n",
              "      <th>15</th>\n",
              "      <td>Property\\n</td>\n",
              "      <td>गुणधर्म\\n</td>\n",
              "    </tr>\n",
              "    <tr>\n",
              "      <th>16</th>\n",
              "      <td>Value\\n</td>\n",
              "      <td>मान\\n</td>\n",
              "    </tr>\n",
              "    <tr>\n",
              "      <th>17</th>\n",
              "      <td>IPython Console\\n</td>\n",
              "      <td>आईपाइथन कन्सोल\\n</td>\n",
              "    </tr>\n",
              "    <tr>\n",
              "      <th>18</th>\n",
              "      <td>Interactive console for manipulating currently...</td>\n",
              "      <td>इस समय चुने गए एक्सेसेबेल से काम लेने के लिए अ...</td>\n",
              "    </tr>\n",
              "    <tr>\n",
              "      <th>19</th>\n",
              "      <td>Event monitor\\n</td>\n",
              "      <td>घटना मानिटर\\n</td>\n",
              "    </tr>\n",
              "  </tbody>\n",
              "</table>\n",
              "</div>"
            ],
            "text/plain": [
              "                                              english                                              hindi\n",
              "0    Give your application an accessibility workout\\n  अपने अनुप्रयोग को पहुंचनीयता व्यायाम का लाभ दें\\n\n",
              "1                 Accerciser Accessibility Explorer\\n                  एक्सेर्साइसर पहुंचनीयता अन्वेषक\\n\n",
              "2    The default plugin layout for the bottom panel\\n            निचले पटल के लिए डिफोल्ट प्लग-इन खाका\\n\n",
              "3       The default plugin layout for the top panel\\n             ऊपरी पटल के लिए डिफोल्ट प्लग-इन खाका\\n\n",
              "4    A list of plugins that are disabled by default\\n  उन प्लग-इनों की सूची जिन्हें डिफोल्ट रूप से नि...\n",
              "5                                Highlight duration\\n                             अवधि को हाइलाइट रकें\\n\n",
              "6   The duration of the highlight box when selecti...  पहुंचनीय आसंधि (नोड) को चुनते समय हाइलाइट बक्स...\n",
              "7                            Highlight border color\\n           सीमांत (बोर्डर) के रंग को हाइलाइट करें\\n\n",
              "8    The color and opacity of the highlight border.\\n    हाइलाइट किए गए सीमांत का रंग और अपारदर्शिता। \\n\n",
              "9                              Highlight fill color\\n                      भराई के रंग को हाइलाइट करें\\n\n",
              "10     The color and opacity of the highlight fill.\\n     हाइलाइट किया गया भराई का रंग और पारदर्शिता। \\n\n",
              "11                                      API Browser\\n                                      एपीआई विचरक\\n\n",
              "12  Browse the various methods of the current acce...  इस समय जिसे प्राप्त किया गया हो, उसकी विभिन्न ...\n",
              "13                          Hide private attributes\\n                             निजी गुणों को छिपाएं\\n\n",
              "14                                           Method\\n                                             विधि\\n\n",
              "15                                         Property\\n                                          गुणधर्म\\n\n",
              "16                                            Value\\n                                              मान\\n\n",
              "17                                  IPython Console\\n                                   आईपाइथन कन्सोल\\n\n",
              "18  Interactive console for manipulating currently...  इस समय चुने गए एक्सेसेबेल से काम लेने के लिए अ...\n",
              "19                                    Event monitor\\n                                      घटना मानिटर\\n"
            ]
          },
          "metadata": {
            "tags": []
          },
          "execution_count": 29
        }
      ]
    },
    {
      "cell_type": "code",
      "metadata": {
        "colab": {
          "base_uri": "https://localhost:8080/",
          "height": 648
        },
        "id": "1ZDZ4VC5qdeL",
        "outputId": "6388f607-03ea-4724-e0ec-30b867290051"
      },
      "source": [
        "import os\n",
        "import random\n",
        "import re\n",
        "import string\n",
        "from string import digits\n",
        "\n",
        "\n",
        "\n",
        "from nltk.translate.bleu_score import sentence_bleu\n",
        "lines = df.copy()\n",
        "# general\n",
        "lines['english']=lines['english'].apply(lambda x: re.sub(r\"n\\'t\", \" not\", x))\n",
        "lines['english']=lines['english'].apply(lambda x: re.sub(r\"\\'re\", \" are\", x))\n",
        "# lines['english']=lines['english'].apply(lambda x: re.sub(r\"\\'s\", \" is\", x))\n",
        "lines['english']=lines['english'].apply(lambda x: re.sub(r\"n\\'d\", \" would\", x))\n",
        "lines['english']=lines['english'].apply(lambda x: re.sub(r\"n\\'ll\", \" will\", x))\n",
        "lines['english']=lines['english'].apply(lambda x: re.sub(r\"n\\'ve\", \" have\", x))\n",
        "lines['english']=lines['english'].apply(lambda x: re.sub(r\"n\\'m\", \" am\", x))\n",
        "\n",
        "lines['hindi'] = lines['hindi'].apply(lambda x: x.replace('.',' ।'))\n",
        "# lines['hindi'] = lines['hindi'].apply(lambda x: x.replace('।',' ।'))\n",
        "\n",
        "# lines['english']=lines['english'].apply(lambda x: re.sub(r\"n\\in'\", \"ing\", x))\n",
        "\n",
        "# Lowercase all characters\n",
        "lines['english']=lines['english'].apply(lambda x: x.lower())\n",
        "lines['hindi']=lines['hindi'].apply(lambda x: x.lower())\n",
        "\n",
        "\n",
        "exclude = set(['$','&','+',':',';','=','@','|','<','>','^','*','%','-','#','\\'','।']) # Set of all special characters\n",
        "# Remove all the special characters\n",
        "lines['english']=lines['english'].apply(lambda x: ''.join(ch for ch in x if ch not in exclude))\n",
        "lines['hindi']=lines['hindi'].apply(lambda x: ''.join(ch for ch in x if ch not in exclude))\n",
        "\n",
        "exclude = set(string.punctuation)\n",
        "# Remove all the special characters\n",
        "lines['english']=lines['english'].apply(lambda x: ''.join(ch for ch in x if ch not in exclude))\n",
        "lines['hindi']=lines['hindi'].apply(lambda x: ''.join(ch for ch in x if ch not in exclude))\n",
        "\n",
        "\n",
        "# Remove all numbers from text\n",
        "remove_digits = str.maketrans('', '', digits)\n",
        "lines['english']=lines['english'].apply(lambda x: x.translate(remove_digits))\n",
        "lines['hindi']=lines['hindi'].apply(lambda x: x.translate(remove_digits))\n",
        "\n",
        "lines['hindi'] = lines['hindi'].apply(lambda x: re.sub(\"[२३०८१५७९४६]\", \"\", x))\n",
        "\n",
        "# Remove extra spaces\n",
        "lines['english']=lines['english'].apply(lambda x: x.strip())\n",
        "lines['hindi']=lines['hindi'].apply(lambda x: x.strip())\n",
        "lines['english']=lines['english'].apply(lambda x: re.sub(\" +\", \" \", x))\n",
        "lines['hindi']=lines['hindi'].apply(lambda x: re.sub(\" +\", \" \", x))\n",
        "\n",
        "# Add start and end tokens to target sequences\n",
        "lines['hindi'] = lines['hindi'].apply(lambda x :  x + '\\n')\n",
        "\n",
        "lines['english'] = lines['english'].apply(lambda x : x + '\\n')\n",
        "# lines.head(20)\n",
        "df=lines.copy()\n",
        "df.head(20)"
      ],
      "execution_count": null,
      "outputs": [
        {
          "output_type": "execute_result",
          "data": {
            "text/html": [
              "<div>\n",
              "<style scoped>\n",
              "    .dataframe tbody tr th:only-of-type {\n",
              "        vertical-align: middle;\n",
              "    }\n",
              "\n",
              "    .dataframe tbody tr th {\n",
              "        vertical-align: top;\n",
              "    }\n",
              "\n",
              "    .dataframe thead th {\n",
              "        text-align: right;\n",
              "    }\n",
              "</style>\n",
              "<table border=\"1\" class=\"dataframe\">\n",
              "  <thead>\n",
              "    <tr style=\"text-align: right;\">\n",
              "      <th></th>\n",
              "      <th>english</th>\n",
              "      <th>hindi</th>\n",
              "    </tr>\n",
              "  </thead>\n",
              "  <tbody>\n",
              "    <tr>\n",
              "      <th>0</th>\n",
              "      <td>give your application an accessibility workout\\n</td>\n",
              "      <td>अपने अनुप्रयोग को पहुंचनीयता व्यायाम का लाभ दें\\n</td>\n",
              "    </tr>\n",
              "    <tr>\n",
              "      <th>1</th>\n",
              "      <td>accerciser accessibility explorer\\n</td>\n",
              "      <td>एक्सेर्साइसर पहुंचनीयता अन्वेषक\\n</td>\n",
              "    </tr>\n",
              "    <tr>\n",
              "      <th>2</th>\n",
              "      <td>the default plugin layout for the bottom panel\\n</td>\n",
              "      <td>निचले पटल के लिए डिफोल्ट प्लगइन खाका\\n</td>\n",
              "    </tr>\n",
              "    <tr>\n",
              "      <th>3</th>\n",
              "      <td>the default plugin layout for the top panel\\n</td>\n",
              "      <td>ऊपरी पटल के लिए डिफोल्ट प्लगइन खाका\\n</td>\n",
              "    </tr>\n",
              "    <tr>\n",
              "      <th>4</th>\n",
              "      <td>a list of plugins that are disabled by default\\n</td>\n",
              "      <td>उन प्लगइनों की सूची जिन्हें डिफोल्ट रूप से निष...</td>\n",
              "    </tr>\n",
              "    <tr>\n",
              "      <th>5</th>\n",
              "      <td>highlight duration\\n</td>\n",
              "      <td>अवधि को हाइलाइट रकें\\n</td>\n",
              "    </tr>\n",
              "    <tr>\n",
              "      <th>6</th>\n",
              "      <td>the duration of the highlight box when selecti...</td>\n",
              "      <td>पहुंचनीय आसंधि नोड को चुनते समय हाइलाइट बक्से ...</td>\n",
              "    </tr>\n",
              "    <tr>\n",
              "      <th>7</th>\n",
              "      <td>highlight border color\\n</td>\n",
              "      <td>सीमांत बोर्डर के रंग को हाइलाइट करें\\n</td>\n",
              "    </tr>\n",
              "    <tr>\n",
              "      <th>8</th>\n",
              "      <td>the color and opacity of the highlight border\\n</td>\n",
              "      <td>हाइलाइट किए गए सीमांत का रंग और अपारदर्शिता\\n</td>\n",
              "    </tr>\n",
              "    <tr>\n",
              "      <th>9</th>\n",
              "      <td>highlight fill color\\n</td>\n",
              "      <td>भराई के रंग को हाइलाइट करें\\n</td>\n",
              "    </tr>\n",
              "    <tr>\n",
              "      <th>10</th>\n",
              "      <td>the color and opacity of the highlight fill\\n</td>\n",
              "      <td>हाइलाइट किया गया भराई का रंग और पारदर्शिता\\n</td>\n",
              "    </tr>\n",
              "    <tr>\n",
              "      <th>11</th>\n",
              "      <td>api browser\\n</td>\n",
              "      <td>एपीआई विचरक\\n</td>\n",
              "    </tr>\n",
              "    <tr>\n",
              "      <th>12</th>\n",
              "      <td>browse the various methods of the current acce...</td>\n",
              "      <td>इस समय जिसे प्राप्त किया गया हो उसकी विभिन्न व...</td>\n",
              "    </tr>\n",
              "    <tr>\n",
              "      <th>13</th>\n",
              "      <td>hide private attributes\\n</td>\n",
              "      <td>निजी गुणों को छिपाएं\\n</td>\n",
              "    </tr>\n",
              "    <tr>\n",
              "      <th>14</th>\n",
              "      <td>method\\n</td>\n",
              "      <td>विधि\\n</td>\n",
              "    </tr>\n",
              "    <tr>\n",
              "      <th>15</th>\n",
              "      <td>property\\n</td>\n",
              "      <td>गुणधर्म\\n</td>\n",
              "    </tr>\n",
              "    <tr>\n",
              "      <th>16</th>\n",
              "      <td>value\\n</td>\n",
              "      <td>मान\\n</td>\n",
              "    </tr>\n",
              "    <tr>\n",
              "      <th>17</th>\n",
              "      <td>ipython console\\n</td>\n",
              "      <td>आईपाइथन कन्सोल\\n</td>\n",
              "    </tr>\n",
              "    <tr>\n",
              "      <th>18</th>\n",
              "      <td>interactive console for manipulating currently...</td>\n",
              "      <td>इस समय चुने गए एक्सेसेबेल से काम लेने के लिए अ...</td>\n",
              "    </tr>\n",
              "    <tr>\n",
              "      <th>19</th>\n",
              "      <td>event monitor\\n</td>\n",
              "      <td>घटना मानिटर\\n</td>\n",
              "    </tr>\n",
              "  </tbody>\n",
              "</table>\n",
              "</div>"
            ],
            "text/plain": [
              "                                              english                                              hindi\n",
              "0    give your application an accessibility workout\\n  अपने अनुप्रयोग को पहुंचनीयता व्यायाम का लाभ दें\\n\n",
              "1                 accerciser accessibility explorer\\n                  एक्सेर्साइसर पहुंचनीयता अन्वेषक\\n\n",
              "2    the default plugin layout for the bottom panel\\n             निचले पटल के लिए डिफोल्ट प्लगइन खाका\\n\n",
              "3       the default plugin layout for the top panel\\n              ऊपरी पटल के लिए डिफोल्ट प्लगइन खाका\\n\n",
              "4    a list of plugins that are disabled by default\\n  उन प्लगइनों की सूची जिन्हें डिफोल्ट रूप से निष...\n",
              "5                                highlight duration\\n                             अवधि को हाइलाइट रकें\\n\n",
              "6   the duration of the highlight box when selecti...  पहुंचनीय आसंधि नोड को चुनते समय हाइलाइट बक्से ...\n",
              "7                            highlight border color\\n             सीमांत बोर्डर के रंग को हाइलाइट करें\\n\n",
              "8     the color and opacity of the highlight border\\n      हाइलाइट किए गए सीमांत का रंग और अपारदर्शिता\\n\n",
              "9                              highlight fill color\\n                      भराई के रंग को हाइलाइट करें\\n\n",
              "10      the color and opacity of the highlight fill\\n       हाइलाइट किया गया भराई का रंग और पारदर्शिता\\n\n",
              "11                                      api browser\\n                                      एपीआई विचरक\\n\n",
              "12  browse the various methods of the current acce...  इस समय जिसे प्राप्त किया गया हो उसकी विभिन्न व...\n",
              "13                          hide private attributes\\n                             निजी गुणों को छिपाएं\\n\n",
              "14                                           method\\n                                             विधि\\n\n",
              "15                                         property\\n                                          गुणधर्म\\n\n",
              "16                                            value\\n                                              मान\\n\n",
              "17                                  ipython console\\n                                   आईपाइथन कन्सोल\\n\n",
              "18  interactive console for manipulating currently...  इस समय चुने गए एक्सेसेबेल से काम लेने के लिए अ...\n",
              "19                                    event monitor\\n                                      घटना मानिटर\\n"
            ]
          },
          "metadata": {
            "tags": []
          },
          "execution_count": 30
        }
      ]
    },
    {
      "cell_type": "markdown",
      "metadata": {
        "id": "Z3BkK9GDQ-VP"
      },
      "source": [
        ""
      ]
    },
    {
      "cell_type": "code",
      "metadata": {
        "colab": {
          "base_uri": "https://localhost:8080/"
        },
        "id": "zzDhO7XRzYAt",
        "outputId": "25da0103-d75d-4dcf-9438-7744d0f654c4"
      },
      "source": [
        "from sklearn.model_selection import train_test_split\n",
        "train_temp, test_data_sent = train_test_split(df, test_size = 0.2,random_state=42)\n",
        "train_data_sent, validation_data_sent = train_test_split(train_temp, test_size=0.125,random_state=42)\n",
        "print(test_data_sent)"
      ],
      "execution_count": null,
      "outputs": [
        {
          "output_type": "stream",
          "text": [
            "                                             english                                             hindi\n",
            "119737                                     a l m p\\n                                         a l m p\\n\n",
            "72272                                      created\\n                                          सृजितः\\n\n",
            "158154  writing clipboard data to temp file failed\\n  क्लिपबोर्ड डाटा को अस्थाई फ़ाइल में लिखना असफल\\n\n",
            "65426                      use image as background\\n       छवि पृष्ठ भूमि के रूप में उपयोग में लें u\\n\n",
            "30074            save project as a plain text list\\n              बतौर सादा पाठ सूची परियोजना सहेजें\\n\n",
            "...                                              ...                                               ...\n",
            "4174                          klondike three decks\\n                              क्लॉन्डिके तीन डेक\\n\n",
            "91537                                africa malabo\\n                                    अफ्रीकामलाबो\\n\n",
            "156449                             project options\\n                                 परियोजना विकल्प\\n\n",
            "184376                                         kig\\n                                          केआईजी\\n\n",
            "6584                                          zoom\\n                                             जूम\\n\n",
            "\n",
            "[40000 rows x 2 columns]\n"
          ],
          "name": "stdout"
        }
      ]
    },
    {
      "cell_type": "code",
      "metadata": {
        "id": "8Jwz1gIJzZW0"
      },
      "source": [
        "train_data_sent.to_json('train_data.json', orient='records', lines=True)\n",
        "validation_data_sent.to_json('validation_data.json', orient='records', lines=True)\n",
        "test_data_sent.to_json('test_data.json', orient='records', lines=True)"
      ],
      "execution_count": null,
      "outputs": []
    },
    {
      "cell_type": "code",
      "metadata": {
        "id": "Lg8eDkdwzaCD"
      },
      "source": [
        "from indicnlp.tokenize import indic_tokenize\n",
        "\n",
        "\n",
        "def hindi_tokenizer(sentence):\n",
        "    # sentence = re.sub(r\"([.!?])\", r\" \\1\", sentence)\n",
        "    # return [word for word in indic_tokenize.trivial_tokenize(normalizer.normalize(sentence.strip().split(\"-\")[-1].strip()))]\n",
        "    return [word for word in indic_tokenize.trivial_tokenize(sentence.strip().split(\"-\")[-1].strip())]"
      ],
      "execution_count": null,
      "outputs": []
    },
    {
      "cell_type": "code",
      "metadata": {
        "id": "w-h01f0gzbu6"
      },
      "source": [
        "import spacy\n",
        "en_tokenizer = spacy.load('en')\n",
        "\n",
        "def english_tokenizer(sentence):\n",
        "    # sentence = re.sub(r\"([.!?])\", r\" \\1\", sentence)\n",
        "    # sentence = re.sub(r\"[^a-zA-Z.!?]+\", r\" \", sentence)\n",
        "    return [word.text for word in en_tokenizer.tokenizer(sentence.strip().split(\"-\")[-1].strip())][::-1]"
      ],
      "execution_count": null,
      "outputs": []
    },
    {
      "cell_type": "code",
      "metadata": {
        "id": "CXqy-vRbzchP"
      },
      "source": [
        "ENGLISH = Field(tokenize = english_tokenizer, init_token = '<sos>', eos_token = '<eos>', lower = True)\n",
        "HINDI = Field(tokenize = hindi_tokenizer, init_token = '<sos>', eos_token = '<eos>')\n",
        "fields = {'english': ('english', ENGLISH), 'hindi': ('hindi', HINDI)}"
      ],
      "execution_count": null,
      "outputs": []
    },
    {
      "cell_type": "code",
      "metadata": {
        "colab": {
          "base_uri": "https://localhost:8080/"
        },
        "id": "ugbEnvKizdbt",
        "outputId": "ad050017-fdf3-468f-e3f8-bd24c614509e"
      },
      "source": [
        "train_data, validation_data, test_data = data.TabularDataset.splits(path = '',\n",
        "                                        train = 'train_data.json',\n",
        "                                        validation = 'validation_data.json',\n",
        "                                        test = 'test_data.json',\n",
        "                                        format = 'json',\n",
        "                                        fields = fields)\n",
        "\n",
        "print(len(train_data), len(validation_data), len(test_data))"
      ],
      "execution_count": null,
      "outputs": [
        {
          "output_type": "stream",
          "text": [
            "140000 20000 40000\n"
          ],
          "name": "stdout"
        }
      ]
    },
    {
      "cell_type": "code",
      "metadata": {
        "colab": {
          "base_uri": "https://localhost:8080/"
        },
        "id": "-SeupvQbzeJc",
        "outputId": "4c4bdfe2-0a46-4ee6-83f7-3ad7aa8a8523"
      },
      "source": [
        "# print(train_data_sent)\n",
        "print(vars(train_data.examples[0]))"
      ],
      "execution_count": null,
      "outputs": [
        {
          "output_type": "stream",
          "text": [
            "{'english': ['contact', 'given', 'the', 'with', 'conversation', 'a', 'start', 'not', 'could'], 'hindi': ['दिए', 'गए', 'संपर्क', 'के', 'साथ', 'वार्तालाप', 'नहीं', 'शुरू', 'कर', 'सकता', 'है']}\n"
          ],
          "name": "stdout"
        }
      ]
    },
    {
      "cell_type": "code",
      "metadata": {
        "colab": {
          "base_uri": "https://localhost:8080/"
        },
        "id": "8hRJ3EFTzfAi",
        "outputId": "6b5743af-8a32-4609-df4e-30b9bd862a86"
      },
      "source": [
        "ENGLISH.build_vocab(train_data, min_freq=2)\n",
        "HINDI.build_vocab(train_data, min_freq=2)\n",
        "\n",
        "print(f\"English: {len(ENGLISH.vocab)}, Hindi: {len(HINDI.vocab)}\")"
      ],
      "execution_count": null,
      "outputs": [
        {
          "output_type": "stream",
          "text": [
            "English: 9825, Hindi: 14026\n"
          ],
          "name": "stdout"
        }
      ]
    },
    {
      "cell_type": "code",
      "metadata": {
        "id": "EIASQiDlcNcQ"
      },
      "source": [
        "import random\n"
      ],
      "execution_count": null,
      "outputs": []
    },
    {
      "cell_type": "code",
      "metadata": {
        "id": "0aZtDNfozfwe"
      },
      "source": [
        "class Encoder(nn.Module):\n",
        "    def __init__(self, input_size, embedding_size, hidden_size, p):\n",
        "        super().__init__()\n",
        "        self.dropout = nn.Dropout(p)\n",
        "        self.word_embeddings = nn.Embedding(input_size, embedding_size) \n",
        "        self.gru = nn.GRU(embedding_size, hidden_size, bidirectional=True)\n",
        "        self.linear = nn.Linear(2 * hidden_size, hidden_size)\n",
        "        self.hidden_size = hidden_size\n",
        "        \n",
        "    def forward(self, input):\n",
        "        embeddings = self.dropout(self.word_embeddings(input))\n",
        "        o, h = self.gru(embeddings) \n",
        "        h = torch.tanh(self.linear(torch.cat((h[-2,:,:], h[-1,:,:]), dim = 1)))\n",
        "\n",
        "        return o, h"
      ],
      "execution_count": null,
      "outputs": []
    },
    {
      "cell_type": "code",
      "metadata": {
        "id": "aXSDnTWL0Fay"
      },
      "source": [
        "class Attention(nn.Module):\n",
        "    def __init__(self, hidden_size):\n",
        "        super().__init__()\n",
        "        \n",
        "        self.attention_layer = nn.Linear(3 * hidden_size, hidden_size)\n",
        "        self.linear = nn.Linear(hidden_size, 1)\n",
        "        \n",
        "    def forward(self, h, eo):\n",
        "        h = h.unsqueeze(1).repeat(1, eo.shape[0], 1)\n",
        "        eo = eo.permute(1, 0, 2)\n",
        "        e = torch.tanh(self.attention_layer(torch.cat((h, eo), dim = 2))) \n",
        "        alpha = self.linear(e).squeeze(2)\n",
        "        \n",
        "        return F.softmax(alpha, dim=1)"
      ],
      "execution_count": null,
      "outputs": []
    },
    {
      "cell_type": "code",
      "metadata": {
        "id": "scR1Emc70G9P"
      },
      "source": [
        "class Decoder(nn.Module):\n",
        "    def __init__(self, output_size, embedding_size, hidden_size, p, attention):\n",
        "        super().__init__()\n",
        "        self.dropout = nn.Dropout(p)\n",
        "        self.word_embeddings = nn.Embedding(output_size, embedding_size)\n",
        "        self.gru = nn.GRU(embedding_size + 2 * hidden_size, hidden_size)\n",
        "        self.linear = nn.Linear(embedding_size + 3 * hidden_size, output_size)\n",
        "        self.output_size = output_size\n",
        "        self.attention = attention\n",
        "        self.hidden_size = hidden_size\n",
        "\n",
        "    def forward(self, input, h, eo):        \n",
        "        embeddings = self.dropout(self.word_embeddings(input.unsqueeze(0)))\n",
        "        alpha = self.attention(h, eo).unsqueeze(1)\n",
        "        eo = eo.permute(1, 0, 2)\n",
        "        w = torch.bmm(alpha, eo).permute(1, 0, 2)\n",
        "        o, h = self.gru(torch.cat((embeddings, w), dim = 2), h.unsqueeze(0))\n",
        "        predictions = self.linear(torch.cat((o, w, embeddings), dim = 2).squeeze(0))\n",
        "\n",
        "        return predictions, h.squeeze(0),alpha.squeeze(1)"
      ],
      "execution_count": null,
      "outputs": []
    },
    {
      "cell_type": "code",
      "metadata": {
        "id": "Hmuo_R0I0LXz"
      },
      "source": [
        "class Model(nn.Module):\n",
        "    def __init__(self, encoder, decoder, device):\n",
        "        super().__init__()\n",
        "        \n",
        "        self.device = device\n",
        "        self.encoder = encoder\n",
        "        self.decoder = decoder\n",
        "         \n",
        "    def forward(self, input, actual):\n",
        "        \n",
        "        eo, h = self.encoder(input)\n",
        "        input = actual[0, :]\n",
        "        predictions = torch.zeros(actual.shape[0], actual.shape[1], self.decoder.output_size).to(self.device)\n",
        "\n",
        "        for t in range(1, actual.shape[0]):\n",
        "            o, h,_ = self.decoder(input, h, eo)\n",
        "            predictions[t] = o\n",
        "            teacher_force=random.random() < 0.5\n",
        "\n",
        "            predicted = o.argmax(1) \n",
        "            input = actual[t] if teacher_force else predicted\n",
        "\n",
        "        return predictions      "
      ],
      "execution_count": null,
      "outputs": []
    },
    {
      "cell_type": "code",
      "metadata": {
        "id": "W_ENDj8kuYFE"
      },
      "source": [
        "def train(model, train_data_iterator, optimizer, criterion):\n",
        "    \n",
        "    model.train()    \n",
        "    total_loss = 0\n",
        "    \n",
        "    for batch in tqdm(train_data_iterator):\n",
        "        input = batch.english\n",
        "        actual = batch.hindi\n",
        "        optimizer.zero_grad()\n",
        "        predictions = model(input, actual)\n",
        "        vocab_size = predictions.shape[-1]\n",
        "        predictions = predictions[1:].view(-1, vocab_size)\n",
        "        actual = actual[1:].view(-1) # flattening the sentence_length x batch_size dimensions because cross entropy loss needs 1d shape and also removing the sos token\n",
        "        loss = criterion(predictions, actual)\n",
        "        loss.backward()   \n",
        "        total_loss += loss.item()\n",
        "        torch.nn.utils.clip_grad_norm_(model.parameters(), 1)\n",
        "        optimizer.step()\n",
        "        \n",
        "    average_loss = total_loss / len(train_data_iterator)\n",
        "    return average_loss"
      ],
      "execution_count": null,
      "outputs": []
    },
    {
      "cell_type": "code",
      "metadata": {
        "id": "U1N5ryYcu6OD"
      },
      "source": [
        "def evaluate(model, data_iterator, criterion):\n",
        "    \n",
        "    model.eval()\n",
        "    total_loss = 0\n",
        "    \n",
        "    with torch.no_grad():\n",
        "        for batch in tqdm(data_iterator):\n",
        "            input = batch.english\n",
        "            actual = batch.hindi\n",
        "            predictions = model(input, actual)\n",
        "            vocab_size = predictions.shape[-1]\n",
        "            predictions = predictions[1:].view(-1, vocab_size)\n",
        "            actual = actual[1:].view(-1) # flattening the sentence_length x batch_size dimensions because cross entropy loss needs 1d shape and also removing the sos token\n",
        "            loss = criterion(predictions, actual)\n",
        "            total_loss += loss.item()\n",
        "    \n",
        "    average_loss = total_loss / len(data_iterator)\n",
        "    return average_loss"
      ],
      "execution_count": null,
      "outputs": []
    },
    {
      "cell_type": "code",
      "metadata": {
        "colab": {
          "base_uri": "https://localhost:8080/"
        },
        "id": "BEY14fEp0Npb",
        "outputId": "92672a22-919c-4681-ab0e-886a2b07be41"
      },
      "source": [
        "enc = Encoder(len(ENGLISH.vocab), 200, 256, 0.5)\n",
        "attention = Attention(256)\n",
        "dec = Decoder(len(HINDI.vocab), 200, 256, 0.5, attention)\n",
        "model = Model(enc, dec, device).to(device)\n",
        "\n",
        "for name, param in model.named_parameters():\n",
        "        if \"weight\" in name:\n",
        "            nn.init.normal_(param.data, mean=0, std=0.01)\n",
        "        else:\n",
        "            nn.init.constant_(param.data, 0)\n",
        "model"
      ],
      "execution_count": null,
      "outputs": [
        {
          "output_type": "execute_result",
          "data": {
            "text/plain": [
              "Model(\n",
              "  (encoder): Encoder(\n",
              "    (dropout): Dropout(p=0.5, inplace=False)\n",
              "    (word_embeddings): Embedding(9825, 200)\n",
              "    (gru): GRU(200, 256, bidirectional=True)\n",
              "    (linear): Linear(in_features=512, out_features=256, bias=True)\n",
              "  )\n",
              "  (decoder): Decoder(\n",
              "    (dropout): Dropout(p=0.5, inplace=False)\n",
              "    (word_embeddings): Embedding(14026, 200)\n",
              "    (gru): GRU(712, 256)\n",
              "    (linear): Linear(in_features=968, out_features=14026, bias=True)\n",
              "    (attention): Attention(\n",
              "      (attention_layer): Linear(in_features=768, out_features=256, bias=True)\n",
              "      (linear): Linear(in_features=256, out_features=1, bias=True)\n",
              "    )\n",
              "  )\n",
              ")"
            ]
          },
          "metadata": {
            "tags": []
          },
          "execution_count": 46
        }
      ]
    },
    {
      "cell_type": "code",
      "metadata": {
        "id": "xBciEbuz01bx"
      },
      "source": [
        "optimizer = optim.Adam(model.parameters())\n",
        "criterion = nn.CrossEntropyLoss(ignore_index = HINDI.vocab.stoi[HINDI.pad_token])\n",
        "train_iterator, valid_iterator, test_iterator = BucketIterator.splits((train_data, validation_data, test_data), batch_size = 32, device = device, sort = False)\n",
        "train_data_iterator, validation_data_iterator, test_data_iterator = BucketIterator.splits((train_data, validation_data, test_data), batch_size = 32, device = device, sort = False)\n"
      ],
      "execution_count": null,
      "outputs": []
    },
    {
      "cell_type": "code",
      "metadata": {
        "colab": {
          "base_uri": "https://localhost:8080/",
          "height": 391,
          "referenced_widgets": [
            "9e3e130129f345a1a5eb0d6e77af9634",
            "b9a11407942d4295a7189820517c08d1",
            "2b4b7d92eeb34edb80c9d793d4c14523",
            "692ea05e96654a7c9cc3f4c7e38fa743",
            "a3bf6c32f12e41188f416691cff63dd1",
            "7e4139ce7b9246ab8f455b754fe05b17",
            "794b704a7eca488183214dbbf59d4a14",
            "b1db38e3e6b24de39bb226c25fabcd44",
            "9b5519784d584be2a2ef3deaa0293243",
            "1341dbd813cf487b9385d594742f4d3b",
            "6d0eafc2302f487dac2a571cd6029295",
            "b6ade48b0fa4455ead03dd9cad397d13",
            "5b6539c03c6a408d8d17c42d05dc839f",
            "39b33e3b039848288db7757fa87927cb",
            "931481a42b484959bc4373c569bcd27f",
            "df96db9e1f094d03ba0ccab30b5d05df",
            "fdb84744407944dd907f12fd87147594",
            "069e22303cde432384311312d5214321",
            "c9f9c73fce864d79ba01e1b6b34e7c64",
            "d3ebd791a19c4bd6817b8cccd65b9df3",
            "ed8327b3775846a496861fc1af948daa",
            "fdb9ba90308844b9aa9c72467610ee17",
            "2e05ffd96e9b46b195e992ad931c0b82",
            "f376acaf27d54d21960697b7b0050eff",
            "46765211a3da494a88f3fab708737020",
            "1b739bc24cea43c6a527799920a23b75",
            "8ecc0a890da541a2ab08e1849e8f587c",
            "b6c777bbf26048dd9d40172c953be0d8",
            "eafc585c28d14a95a4c9181b9cab2f65",
            "7b2196b679034b54b375a39f22557c5c",
            "3466a16acd0a4c058da8468b3fb63e24",
            "de78cf851f4845bcaa8b95ebaf9dcd2c",
            "e0ae09bb0e5147b2ad87b15bb59102e6",
            "186965dc446740768b14efa5655be09b",
            "26cd8fd5977b40698775d88a6914ac09",
            "35054131a3ba41ed9a96e2f6de0e78b0",
            "6fec1461cdc44b1d9dc99c058a799ab5",
            "225586da52394ec5a141dad6b93cad6c",
            "0d2e877f6bb64fbcb9ad8d8bd34a07c4",
            "43932759f6ae49409382a27c3f265df5",
            "967225439f584937a5b6c2985f43cfe7",
            "5b3e18f051ef4093a4f9a5e5597db6df",
            "a5fc2a7fd89043a09b86366235f54ed9",
            "50ec8ea970ad4b6a8d6e7479d14b9c72",
            "d730c93520474bc0b1a2475a44ed33ca",
            "654da36846014ba6be4a7b4dfb26907c",
            "4f521b067a0041789a01fcdd368d27f1",
            "58a2b11b64d14820a335d7ca886a272d"
          ]
        },
        "id": "UOZbMs9C0_J1",
        "outputId": "15c7ce12-f59d-41ce-a9b6-a6c55a6572fa"
      },
      "source": [
        "best_loss = 1e9\n",
        "\n",
        "\n",
        "training_losses = []\n",
        "validation_losses = []\n",
        "\n",
        "for epoch in tqdm(range(10)):\n",
        "    path=\"model \"+str(epoch)+\".pt\"\n",
        "    train_loss = train(model, train_data_iterator, optimizer, criterion)\n",
        "    valid_loss = evaluate(model, validation_data_iterator, criterion)\n",
        "    torch.cuda.empty_cache()\n",
        "    training_losses.append(np.exp(train_loss))\n",
        "    validation_losses.append(np.exp(valid_loss))\n",
        "    if valid_loss < best_loss:\n",
        "        best_loss = valid_loss\n",
        "        torch.save(model.state_dict(),'modelpunrev_200k.pt')\n",
        "    \n",
        "    print(f\"Epoch: {epoch + 1}\")\n",
        "    print(f\"Train Loss (exponent to analyse better): {np.exp(train_loss):.3f}\")\n",
        "    print(f\"Val. Loss (exponent to analyse better): {np.exp(valid_loss):.3f}\")"
      ],
      "execution_count": null,
      "outputs": [
        {
          "output_type": "display_data",
          "data": {
            "application/vnd.jupyter.widget-view+json": {
              "model_id": "9e3e130129f345a1a5eb0d6e77af9634",
              "version_minor": 0,
              "version_major": 2
            },
            "text/plain": [
              "HBox(children=(FloatProgress(value=0.0, max=10.0), HTML(value='')))"
            ]
          },
          "metadata": {
            "tags": []
          }
        },
        {
          "output_type": "display_data",
          "data": {
            "application/vnd.jupyter.widget-view+json": {
              "model_id": "9b5519784d584be2a2ef3deaa0293243",
              "version_minor": 0,
              "version_major": 2
            },
            "text/plain": [
              "HBox(children=(FloatProgress(value=0.0, max=4375.0), HTML(value='')))"
            ]
          },
          "metadata": {
            "tags": []
          }
        },
        {
          "output_type": "stream",
          "text": [
            "\n"
          ],
          "name": "stdout"
        },
        {
          "output_type": "display_data",
          "data": {
            "application/vnd.jupyter.widget-view+json": {
              "model_id": "fdb84744407944dd907f12fd87147594",
              "version_minor": 0,
              "version_major": 2
            },
            "text/plain": [
              "HBox(children=(FloatProgress(value=0.0, max=625.0), HTML(value='')))"
            ]
          },
          "metadata": {
            "tags": []
          }
        },
        {
          "output_type": "stream",
          "text": [
            "\n",
            "Epoch: 1\n",
            "Train Loss (exponent to analyse better): 56.076\n",
            "Val. Loss (exponent to analyse better): 11.244\n"
          ],
          "name": "stdout"
        },
        {
          "output_type": "display_data",
          "data": {
            "application/vnd.jupyter.widget-view+json": {
              "model_id": "46765211a3da494a88f3fab708737020",
              "version_minor": 0,
              "version_major": 2
            },
            "text/plain": [
              "HBox(children=(FloatProgress(value=0.0, max=4375.0), HTML(value='')))"
            ]
          },
          "metadata": {
            "tags": []
          }
        },
        {
          "output_type": "stream",
          "text": [
            "\n"
          ],
          "name": "stdout"
        },
        {
          "output_type": "display_data",
          "data": {
            "application/vnd.jupyter.widget-view+json": {
              "model_id": "e0ae09bb0e5147b2ad87b15bb59102e6",
              "version_minor": 0,
              "version_major": 2
            },
            "text/plain": [
              "HBox(children=(FloatProgress(value=0.0, max=625.0), HTML(value='')))"
            ]
          },
          "metadata": {
            "tags": []
          }
        },
        {
          "output_type": "stream",
          "text": [
            "\n",
            "Epoch: 2\n",
            "Train Loss (exponent to analyse better): 7.907\n",
            "Val. Loss (exponent to analyse better): 5.723\n"
          ],
          "name": "stdout"
        },
        {
          "output_type": "display_data",
          "data": {
            "application/vnd.jupyter.widget-view+json": {
              "model_id": "967225439f584937a5b6c2985f43cfe7",
              "version_minor": 0,
              "version_major": 2
            },
            "text/plain": [
              "HBox(children=(FloatProgress(value=0.0, max=4375.0), HTML(value='')))"
            ]
          },
          "metadata": {
            "tags": []
          }
        }
      ]
    },
    {
      "cell_type": "code",
      "metadata": {
        "id": "UDXM2g8FwN0J"
      },
      "source": [
        "import matplotlib.pyplot as plt\n",
        "\n",
        "plt.plot(training_losses, label = 'Training')\n",
        "plt.plot(validation_losses, label = 'Validation')\n",
        "plt.xlabel('Epoch')\n",
        "plt.ylabel('Loss')\n",
        "plt.legend()\n",
        "plt.show()"
      ],
      "execution_count": null,
      "outputs": []
    },
    {
      "cell_type": "code",
      "metadata": {
        "id": "6ubGp0gztS3d"
      },
      "source": [
        "# !cp 'drive/MyDrive/NLP_project/model1_200000.pt' ."
      ],
      "execution_count": null,
      "outputs": []
    },
    {
      "cell_type": "code",
      "metadata": {
        "id": "BoYOxhAO1A06"
      },
      "source": [
        "train_data_iterator, validation_data_iterator, test_data_iterator = BucketIterator.splits((train_data, validation_data, test_data), batch_size = 24, device = device, sort = False)\n",
        "\n",
        "model.load_state_dict(torch.load('modelpunrev_200k.pt'))\n",
        "test_loss = evaluate(model, test_data_iterator, criterion)\n",
        "print(f\"Test Loss (exponent to analyse better): {np.exp(test_loss):.3f}\")"
      ],
      "execution_count": null,
      "outputs": []
    },
    {
      "cell_type": "code",
      "metadata": {
        "id": "8-nRsf3x2dpb"
      },
      "source": [
        "def translate(text,max_len=50):\n",
        "  model.eval()\n",
        "  tokens = english_tokenizer(text)\n",
        "  tokens = [ENGLISH.init_token] + tokens + [ENGLISH.eos_token]\n",
        "  src_indexes = [ENGLISH.vocab.stoi[token] for token in tokens]\n",
        "  src_tensor = torch.LongTensor(src_indexes).unsqueeze(0).to(device)\n",
        "  src_tensor = src_tensor.reshape(-1,1)\n",
        "  with torch.no_grad():\n",
        "      encoder_outputs, hidden = model.encoder(src_tensor)\n",
        "  trg_indexes = [HINDI.vocab.stoi[HINDI.init_token]]\n",
        "\n",
        "  attentions = torch.zeros(max_len, 1, len(src_indexes)).to(device)\n",
        "  for i in range(max_len):\n",
        "\n",
        "      trg_tensor = torch.LongTensor([trg_indexes[-1]]).to(device)\n",
        "              \n",
        "      with torch.no_grad():\n",
        "          output, hidden, attention = model.decoder(trg_tensor, hidden, encoder_outputs)\n",
        "\n",
        "      attentions[i] = attention\n",
        "          \n",
        "      pred_token = output.argmax(1).item()\n",
        "      \n",
        "      trg_indexes.append(pred_token)\n",
        "\n",
        "      if pred_token == HINDI.vocab.stoi[HINDI.eos_token]:\n",
        "          break\n",
        "  \n",
        "  trg_tokens = [HINDI.vocab.itos[i] for i in trg_indexes]\n",
        "  \n",
        "  return trg_tokens[1:], attentions[:len(trg_tokens)-1]\n",
        "\n",
        "print(translate(\"man speaking native language:\"))"
      ],
      "execution_count": null,
      "outputs": []
    },
    {
      "cell_type": "code",
      "metadata": {
        "id": "2vkCUGoO0Zw2"
      },
      "source": [
        "\n",
        "file1 = open(\"alignmentspun_300000.txt\",\"w\")#write mode \n",
        "\n",
        "co=0\n",
        "for i, (eng_sentence, hin_sentence) in enumerate(zip(test_data_sent[\"english\"], test_data_sent[\"hindi\"])):\n",
        "\n",
        "  hindi_predicted ,attention = translate(eng_sentence)\n",
        "  hindlen=hindi_predicted\n",
        "  tokens = english_tokenizer(eng_sentence)\n",
        "  tok=english_tokenizer(eng_sentence)\n",
        "  if len(tok)>=3:\n",
        "    print(hindi_predicted)\n",
        "    print(tokens)\n",
        "  \n",
        "    hindi_predicted = \" \".join(list(filter(lambda x: x != '<eos>', hindi_predicted))).strip()\n",
        "    tokens=\" \".join(list(filter(lambda x: x != '<eos>', tokens))).strip()\n",
        "    input_sentence=\"0 ||| \"\n",
        "    input_sentence=input_sentence + (hindi_predicted).strip() + \" ||| 0 ||| \"\n",
        "    input_sentence+=\" \".join([ENGLISH.init_token])\n",
        "    input_sentence=input_sentence + \" \" + (tokens).strip() + \" ||| \" + str(len(tok)+2) + \" \" + str(len(hindlen))\n",
        "    file1.write(input_sentence)\n",
        "    file1.write(\"\\n\")\n",
        "\n",
        "    attention = attention.squeeze(1).cpu().detach().numpy()\n",
        "    input_mat=\"\"\n",
        "\n",
        "    for x in attention:\n",
        "      input_mat=\"\"\n",
        "      for y in x:\n",
        "        input_mat+=str(y)+ \" \"\n",
        "      file1.write(input_mat)\n",
        "      file1.write(\"\\n\")    \n",
        "    file1.write(\"\\n\")\n",
        "    co+=1\n",
        "    if(co>=10):\n",
        "      break\n",
        "\n",
        "\n",
        "file1.close()"
      ],
      "execution_count": null,
      "outputs": []
    },
    {
      "cell_type": "code",
      "metadata": {
        "id": "1AHwry_XjBgu"
      },
      "source": [
        "def translate1(text):\n",
        "  model.eval()\n",
        "  with torch.no_grad():\n",
        "    tokens = english_tokenizer(text)\n",
        "    tokens = [ENGLISH.init_token] + tokens + [ENGLISH.eos_token]\n",
        "    src_indexes = [ENGLISH.vocab.stoi[token] for token in tokens]\n",
        "    src_tensor = torch.LongTensor(src_indexes).unsqueeze(0).to(device)\n",
        "    src_tensor = src_tensor.reshape(-1,1)\n",
        "\n",
        "    output = model(src_tensor, src_tensor)\n",
        "    output_dim = output.shape[-1]\n",
        "    output = output.view(-1, output_dim)\n",
        "    indices = torch.argmax(output,dim=1).tolist()\n",
        "    return [HINDI.vocab.itos[x] for x in indices]\n",
        "\n",
        "print(translate1(\"man speaking native language:\"))"
      ],
      "execution_count": null,
      "outputs": []
    },
    {
      "cell_type": "code",
      "metadata": {
        "id": "ETEPL0HP_2dc"
      },
      "source": [
        "\n",
        "\n",
        "import nltk\n",
        "\n",
        "bleu_i = []\n",
        "bleu_o = []\n",
        "\n",
        "for i, (eng_sentence, hin_sentence) in enumerate(zip(test_data_sent[\"english\"], test_data_sent[\"hindi\"])):\n",
        "\n",
        "  hindi_predicted = translate1(eng_sentence)\n",
        "  hindi_predicted = \" \".join(list(filter(lambda x: x != '<eos>', hindi_predicted))[1:]).strip()\n",
        "  # csvwriter.writerow([eng_sentence.strip(), hindi_predicted.strip(), hin_sentence.strip()])\n",
        "  if len(hin_sentence.strip())>1 and len(hindi_predicted.strip()) >1 : \n",
        "    bleu_i.append(hin_sentence.strip())\n",
        "    bleu_o.append(hindi_predicted.strip())\n",
        "\n",
        "\n",
        "# translated_sentences.close()\n",
        "\n",
        "BLEU_scores = []\n",
        "\n",
        "for i in range(len(bleu_i)):\n",
        "  # print(bleu_i[i],len(bleu_i[i]))\n",
        "  # print(bleu_o[i],len(bleu_o[i]))\n",
        "\n",
        "  BLEU_scores.append(nltk.translate.bleu_score.sentence_bleu(bleu_i[i], bleu_o[i],smoothing_function=nltk.translate.bleu_score.SmoothingFunction().method7))\n",
        "  \n",
        "print(\"Average BLEU Score:\", np.mean(BLEU_scores))"
      ],
      "execution_count": null,
      "outputs": []
    },
    {
      "cell_type": "code",
      "metadata": {
        "id": "fwXTg6BkaqSI"
      },
      "source": [
        ""
      ],
      "execution_count": null,
      "outputs": []
    },
    {
      "cell_type": "code",
      "metadata": {
        "id": "RASticUdaxtH"
      },
      "source": [
        "!cp './modelpunrev_200k.pt' -r 'drive/MyDrive/NLP_project/modelpunrev_200000.pt'"
      ],
      "execution_count": null,
      "outputs": []
    },
    {
      "cell_type": "code",
      "metadata": {
        "id": "g3L9s8Q8bqt3"
      },
      "source": [
        "!cp './alignmentspun_300000.txt' -r 'drive/MyDrive/NLP_project/algnpunrev_200000.txt'"
      ],
      "execution_count": null,
      "outputs": []
    }
  ]
}